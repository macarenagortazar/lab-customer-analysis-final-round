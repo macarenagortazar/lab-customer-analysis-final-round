{
 "cells": [
  {
   "cell_type": "markdown",
   "metadata": {},
   "source": [
    "![logo_ironhack_blue 7](https://user-images.githubusercontent.com/23629340/40541063-a07a0a8a-601a-11e8-91b5-2f13e4e6b441.png)\n",
    "\n",
    "# Lab | Customer Analysis Round 7\n",
    "\n",
    "For this lab, we still keep using the `marketing_customer_analysis.csv` file that you can find in the `files_for_lab` folder.\n",
    "\n",
    "Remember the previous rounds. Follow the steps as shown in previous lectures and try to improve the accuracy of the model. Include both categorical columns in the exercise.\n",
    "Some approaches you can try in this exercise:\n",
    "\n",
    "- use the concept of multicollinearity and remove insignificant variables\n",
    "- use a different method of scaling the numerical variables\n",
    "- use a different ratio of train test split\n",
    "- use the transformation on numerical columns which align it more towards a normal distribution\n"
   ]
  },
  {
   "cell_type": "markdown",
   "metadata": {},
   "source": [
    "# Libraries"
   ]
  },
  {
   "cell_type": "code",
   "execution_count": 1,
   "metadata": {
    "scrolled": false
   },
   "outputs": [],
   "source": [
    "import pandas as pd\n",
    "import numpy as np\n",
    "import matplotlib.pyplot as plt\n",
    "import seaborn as sns\n",
    "%matplotlib inline \n",
    "import math"
   ]
  },
  {
   "cell_type": "markdown",
   "metadata": {},
   "source": [
    "# Part 1: Get the data\n",
    "\n",
    "We are using the `marketing_customer_analysis.csv` file."
   ]
  },
  {
   "cell_type": "code",
   "execution_count": 2,
   "metadata": {
    "scrolled": false
   },
   "outputs": [],
   "source": [
    "df=pd.read_csv(\"marketing_customer_analysis.csv\")"
   ]
  },
  {
   "cell_type": "code",
   "execution_count": 3,
   "metadata": {
    "scrolled": false
   },
   "outputs": [
    {
     "data": {
      "text/html": [
       "<div>\n",
       "<style scoped>\n",
       "    .dataframe tbody tr th:only-of-type {\n",
       "        vertical-align: middle;\n",
       "    }\n",
       "\n",
       "    .dataframe tbody tr th {\n",
       "        vertical-align: top;\n",
       "    }\n",
       "\n",
       "    .dataframe thead th {\n",
       "        text-align: right;\n",
       "    }\n",
       "</style>\n",
       "<table border=\"1\" class=\"dataframe\">\n",
       "  <thead>\n",
       "    <tr style=\"text-align: right;\">\n",
       "      <th></th>\n",
       "      <th>Customer</th>\n",
       "      <th>State</th>\n",
       "      <th>Customer Lifetime Value</th>\n",
       "      <th>Response</th>\n",
       "      <th>Coverage</th>\n",
       "      <th>Education</th>\n",
       "      <th>Effective To Date</th>\n",
       "      <th>EmploymentStatus</th>\n",
       "      <th>Gender</th>\n",
       "      <th>Income</th>\n",
       "      <th>...</th>\n",
       "      <th>Months Since Policy Inception</th>\n",
       "      <th>Number of Open Complaints</th>\n",
       "      <th>Number of Policies</th>\n",
       "      <th>Policy Type</th>\n",
       "      <th>Policy</th>\n",
       "      <th>Renew Offer Type</th>\n",
       "      <th>Sales Channel</th>\n",
       "      <th>Total Claim Amount</th>\n",
       "      <th>Vehicle Class</th>\n",
       "      <th>Vehicle Size</th>\n",
       "    </tr>\n",
       "  </thead>\n",
       "  <tbody>\n",
       "    <tr>\n",
       "      <th>0</th>\n",
       "      <td>BU79786</td>\n",
       "      <td>Washington</td>\n",
       "      <td>2763.519279</td>\n",
       "      <td>No</td>\n",
       "      <td>Basic</td>\n",
       "      <td>Bachelor</td>\n",
       "      <td>2/24/11</td>\n",
       "      <td>Employed</td>\n",
       "      <td>F</td>\n",
       "      <td>56274</td>\n",
       "      <td>...</td>\n",
       "      <td>5</td>\n",
       "      <td>0</td>\n",
       "      <td>1</td>\n",
       "      <td>Corporate Auto</td>\n",
       "      <td>Corporate L3</td>\n",
       "      <td>Offer1</td>\n",
       "      <td>Agent</td>\n",
       "      <td>384.811147</td>\n",
       "      <td>Two-Door Car</td>\n",
       "      <td>Medsize</td>\n",
       "    </tr>\n",
       "    <tr>\n",
       "      <th>1</th>\n",
       "      <td>QZ44356</td>\n",
       "      <td>Arizona</td>\n",
       "      <td>6979.535903</td>\n",
       "      <td>No</td>\n",
       "      <td>Extended</td>\n",
       "      <td>Bachelor</td>\n",
       "      <td>1/31/11</td>\n",
       "      <td>Unemployed</td>\n",
       "      <td>F</td>\n",
       "      <td>0</td>\n",
       "      <td>...</td>\n",
       "      <td>42</td>\n",
       "      <td>0</td>\n",
       "      <td>8</td>\n",
       "      <td>Personal Auto</td>\n",
       "      <td>Personal L3</td>\n",
       "      <td>Offer3</td>\n",
       "      <td>Agent</td>\n",
       "      <td>1131.464935</td>\n",
       "      <td>Four-Door Car</td>\n",
       "      <td>Medsize</td>\n",
       "    </tr>\n",
       "    <tr>\n",
       "      <th>2</th>\n",
       "      <td>AI49188</td>\n",
       "      <td>Nevada</td>\n",
       "      <td>12887.431650</td>\n",
       "      <td>No</td>\n",
       "      <td>Premium</td>\n",
       "      <td>Bachelor</td>\n",
       "      <td>2/19/11</td>\n",
       "      <td>Employed</td>\n",
       "      <td>F</td>\n",
       "      <td>48767</td>\n",
       "      <td>...</td>\n",
       "      <td>38</td>\n",
       "      <td>0</td>\n",
       "      <td>2</td>\n",
       "      <td>Personal Auto</td>\n",
       "      <td>Personal L3</td>\n",
       "      <td>Offer1</td>\n",
       "      <td>Agent</td>\n",
       "      <td>566.472247</td>\n",
       "      <td>Two-Door Car</td>\n",
       "      <td>Medsize</td>\n",
       "    </tr>\n",
       "    <tr>\n",
       "      <th>3</th>\n",
       "      <td>WW63253</td>\n",
       "      <td>California</td>\n",
       "      <td>7645.861827</td>\n",
       "      <td>No</td>\n",
       "      <td>Basic</td>\n",
       "      <td>Bachelor</td>\n",
       "      <td>1/20/11</td>\n",
       "      <td>Unemployed</td>\n",
       "      <td>M</td>\n",
       "      <td>0</td>\n",
       "      <td>...</td>\n",
       "      <td>65</td>\n",
       "      <td>0</td>\n",
       "      <td>7</td>\n",
       "      <td>Corporate Auto</td>\n",
       "      <td>Corporate L2</td>\n",
       "      <td>Offer1</td>\n",
       "      <td>Call Center</td>\n",
       "      <td>529.881344</td>\n",
       "      <td>SUV</td>\n",
       "      <td>Medsize</td>\n",
       "    </tr>\n",
       "    <tr>\n",
       "      <th>4</th>\n",
       "      <td>HB64268</td>\n",
       "      <td>Washington</td>\n",
       "      <td>2813.692575</td>\n",
       "      <td>No</td>\n",
       "      <td>Basic</td>\n",
       "      <td>Bachelor</td>\n",
       "      <td>2/3/11</td>\n",
       "      <td>Employed</td>\n",
       "      <td>M</td>\n",
       "      <td>43836</td>\n",
       "      <td>...</td>\n",
       "      <td>44</td>\n",
       "      <td>0</td>\n",
       "      <td>1</td>\n",
       "      <td>Personal Auto</td>\n",
       "      <td>Personal L1</td>\n",
       "      <td>Offer1</td>\n",
       "      <td>Agent</td>\n",
       "      <td>138.130879</td>\n",
       "      <td>Four-Door Car</td>\n",
       "      <td>Medsize</td>\n",
       "    </tr>\n",
       "  </tbody>\n",
       "</table>\n",
       "<p>5 rows × 24 columns</p>\n",
       "</div>"
      ],
      "text/plain": [
       "  Customer       State  Customer Lifetime Value Response  Coverage Education  \\\n",
       "0  BU79786  Washington              2763.519279       No     Basic  Bachelor   \n",
       "1  QZ44356     Arizona              6979.535903       No  Extended  Bachelor   \n",
       "2  AI49188      Nevada             12887.431650       No   Premium  Bachelor   \n",
       "3  WW63253  California              7645.861827       No     Basic  Bachelor   \n",
       "4  HB64268  Washington              2813.692575       No     Basic  Bachelor   \n",
       "\n",
       "  Effective To Date EmploymentStatus Gender  Income  ...  \\\n",
       "0           2/24/11         Employed      F   56274  ...   \n",
       "1           1/31/11       Unemployed      F       0  ...   \n",
       "2           2/19/11         Employed      F   48767  ...   \n",
       "3           1/20/11       Unemployed      M       0  ...   \n",
       "4            2/3/11         Employed      M   43836  ...   \n",
       "\n",
       "  Months Since Policy Inception Number of Open Complaints  Number of Policies  \\\n",
       "0                             5                         0                   1   \n",
       "1                            42                         0                   8   \n",
       "2                            38                         0                   2   \n",
       "3                            65                         0                   7   \n",
       "4                            44                         0                   1   \n",
       "\n",
       "      Policy Type        Policy  Renew Offer Type  Sales Channel  \\\n",
       "0  Corporate Auto  Corporate L3            Offer1          Agent   \n",
       "1   Personal Auto   Personal L3            Offer3          Agent   \n",
       "2   Personal Auto   Personal L3            Offer1          Agent   \n",
       "3  Corporate Auto  Corporate L2            Offer1    Call Center   \n",
       "4   Personal Auto   Personal L1            Offer1          Agent   \n",
       "\n",
       "  Total Claim Amount  Vehicle Class Vehicle Size  \n",
       "0         384.811147   Two-Door Car      Medsize  \n",
       "1        1131.464935  Four-Door Car      Medsize  \n",
       "2         566.472247   Two-Door Car      Medsize  \n",
       "3         529.881344            SUV      Medsize  \n",
       "4         138.130879  Four-Door Car      Medsize  \n",
       "\n",
       "[5 rows x 24 columns]"
      ]
     },
     "execution_count": 3,
     "metadata": {},
     "output_type": "execute_result"
    }
   ],
   "source": [
    "df.head()"
   ]
  },
  {
   "cell_type": "markdown",
   "metadata": {},
   "source": [
    "# Part 2: Data Cleaning"
   ]
  },
  {
   "cell_type": "markdown",
   "metadata": {},
   "source": [
    "#### 1. Checking the headers and the order of columns"
   ]
  },
  {
   "cell_type": "code",
   "execution_count": 4,
   "metadata": {
    "scrolled": false
   },
   "outputs": [
    {
     "data": {
      "text/plain": [
       "Index(['Customer', 'State', 'Customer Lifetime Value', 'Response', 'Coverage',\n",
       "       'Education', 'Effective To Date', 'EmploymentStatus', 'Gender',\n",
       "       'Income', 'Location Code', 'Marital Status', 'Monthly Premium Auto',\n",
       "       'Months Since Last Claim', 'Months Since Policy Inception',\n",
       "       'Number of Open Complaints', 'Number of Policies', 'Policy Type',\n",
       "       'Policy', 'Renew Offer Type', 'Sales Channel', 'Total Claim Amount',\n",
       "       'Vehicle Class', 'Vehicle Size'],\n",
       "      dtype='object')"
      ]
     },
     "execution_count": 4,
     "metadata": {},
     "output_type": "execute_result"
    }
   ],
   "source": [
    "df.columns"
   ]
  },
  {
   "cell_type": "code",
   "execution_count": 5,
   "metadata": {
    "scrolled": false
   },
   "outputs": [],
   "source": [
    "#Correct \"EmploymentStatus\" to \"Employment Status\" in column\n",
    "df.columns=['Customer', 'State', 'Customer Lifetime Value', 'Response', 'Coverage',\n",
    "       'Education', 'Effective To Date', 'Employment Status', 'Gender',\n",
    "       'Income', 'Location Code', 'Marital Status', 'Monthly Premium Auto',\n",
    "       'Months Since Last Claim', 'Months Since Policy Inception',\n",
    "       'Number of Open Complaints', 'Number of Policies', 'Policy Type',\n",
    "       'Policy', 'Renew Offer Type', 'Sales Channel', 'Total Claim Amount',\n",
    "       'Vehicle Class', 'Vehicle Size']"
   ]
  },
  {
   "cell_type": "code",
   "execution_count": 6,
   "metadata": {
    "scrolled": false
   },
   "outputs": [
    {
     "data": {
      "text/html": [
       "<div>\n",
       "<style scoped>\n",
       "    .dataframe tbody tr th:only-of-type {\n",
       "        vertical-align: middle;\n",
       "    }\n",
       "\n",
       "    .dataframe tbody tr th {\n",
       "        vertical-align: top;\n",
       "    }\n",
       "\n",
       "    .dataframe thead th {\n",
       "        text-align: right;\n",
       "    }\n",
       "</style>\n",
       "<table border=\"1\" class=\"dataframe\">\n",
       "  <thead>\n",
       "    <tr style=\"text-align: right;\">\n",
       "      <th></th>\n",
       "      <th>Customer</th>\n",
       "      <th>State</th>\n",
       "      <th>Customer Lifetime Value</th>\n",
       "      <th>Response</th>\n",
       "      <th>Coverage</th>\n",
       "      <th>Education</th>\n",
       "      <th>Effective To Date</th>\n",
       "      <th>Employment Status</th>\n",
       "      <th>Gender</th>\n",
       "      <th>Income</th>\n",
       "      <th>...</th>\n",
       "      <th>Months Since Policy Inception</th>\n",
       "      <th>Number of Open Complaints</th>\n",
       "      <th>Number of Policies</th>\n",
       "      <th>Policy Type</th>\n",
       "      <th>Policy</th>\n",
       "      <th>Renew Offer Type</th>\n",
       "      <th>Sales Channel</th>\n",
       "      <th>Total Claim Amount</th>\n",
       "      <th>Vehicle Class</th>\n",
       "      <th>Vehicle Size</th>\n",
       "    </tr>\n",
       "  </thead>\n",
       "  <tbody>\n",
       "    <tr>\n",
       "      <th>0</th>\n",
       "      <td>BU79786</td>\n",
       "      <td>Washington</td>\n",
       "      <td>2763.519279</td>\n",
       "      <td>No</td>\n",
       "      <td>Basic</td>\n",
       "      <td>Bachelor</td>\n",
       "      <td>2/24/11</td>\n",
       "      <td>Employed</td>\n",
       "      <td>F</td>\n",
       "      <td>56274</td>\n",
       "      <td>...</td>\n",
       "      <td>5</td>\n",
       "      <td>0</td>\n",
       "      <td>1</td>\n",
       "      <td>Corporate Auto</td>\n",
       "      <td>Corporate L3</td>\n",
       "      <td>Offer1</td>\n",
       "      <td>Agent</td>\n",
       "      <td>384.811147</td>\n",
       "      <td>Two-Door Car</td>\n",
       "      <td>Medsize</td>\n",
       "    </tr>\n",
       "    <tr>\n",
       "      <th>1</th>\n",
       "      <td>QZ44356</td>\n",
       "      <td>Arizona</td>\n",
       "      <td>6979.535903</td>\n",
       "      <td>No</td>\n",
       "      <td>Extended</td>\n",
       "      <td>Bachelor</td>\n",
       "      <td>1/31/11</td>\n",
       "      <td>Unemployed</td>\n",
       "      <td>F</td>\n",
       "      <td>0</td>\n",
       "      <td>...</td>\n",
       "      <td>42</td>\n",
       "      <td>0</td>\n",
       "      <td>8</td>\n",
       "      <td>Personal Auto</td>\n",
       "      <td>Personal L3</td>\n",
       "      <td>Offer3</td>\n",
       "      <td>Agent</td>\n",
       "      <td>1131.464935</td>\n",
       "      <td>Four-Door Car</td>\n",
       "      <td>Medsize</td>\n",
       "    </tr>\n",
       "    <tr>\n",
       "      <th>2</th>\n",
       "      <td>AI49188</td>\n",
       "      <td>Nevada</td>\n",
       "      <td>12887.431650</td>\n",
       "      <td>No</td>\n",
       "      <td>Premium</td>\n",
       "      <td>Bachelor</td>\n",
       "      <td>2/19/11</td>\n",
       "      <td>Employed</td>\n",
       "      <td>F</td>\n",
       "      <td>48767</td>\n",
       "      <td>...</td>\n",
       "      <td>38</td>\n",
       "      <td>0</td>\n",
       "      <td>2</td>\n",
       "      <td>Personal Auto</td>\n",
       "      <td>Personal L3</td>\n",
       "      <td>Offer1</td>\n",
       "      <td>Agent</td>\n",
       "      <td>566.472247</td>\n",
       "      <td>Two-Door Car</td>\n",
       "      <td>Medsize</td>\n",
       "    </tr>\n",
       "    <tr>\n",
       "      <th>3</th>\n",
       "      <td>WW63253</td>\n",
       "      <td>California</td>\n",
       "      <td>7645.861827</td>\n",
       "      <td>No</td>\n",
       "      <td>Basic</td>\n",
       "      <td>Bachelor</td>\n",
       "      <td>1/20/11</td>\n",
       "      <td>Unemployed</td>\n",
       "      <td>M</td>\n",
       "      <td>0</td>\n",
       "      <td>...</td>\n",
       "      <td>65</td>\n",
       "      <td>0</td>\n",
       "      <td>7</td>\n",
       "      <td>Corporate Auto</td>\n",
       "      <td>Corporate L2</td>\n",
       "      <td>Offer1</td>\n",
       "      <td>Call Center</td>\n",
       "      <td>529.881344</td>\n",
       "      <td>SUV</td>\n",
       "      <td>Medsize</td>\n",
       "    </tr>\n",
       "    <tr>\n",
       "      <th>4</th>\n",
       "      <td>HB64268</td>\n",
       "      <td>Washington</td>\n",
       "      <td>2813.692575</td>\n",
       "      <td>No</td>\n",
       "      <td>Basic</td>\n",
       "      <td>Bachelor</td>\n",
       "      <td>2/3/11</td>\n",
       "      <td>Employed</td>\n",
       "      <td>M</td>\n",
       "      <td>43836</td>\n",
       "      <td>...</td>\n",
       "      <td>44</td>\n",
       "      <td>0</td>\n",
       "      <td>1</td>\n",
       "      <td>Personal Auto</td>\n",
       "      <td>Personal L1</td>\n",
       "      <td>Offer1</td>\n",
       "      <td>Agent</td>\n",
       "      <td>138.130879</td>\n",
       "      <td>Four-Door Car</td>\n",
       "      <td>Medsize</td>\n",
       "    </tr>\n",
       "  </tbody>\n",
       "</table>\n",
       "<p>5 rows × 24 columns</p>\n",
       "</div>"
      ],
      "text/plain": [
       "  Customer       State  Customer Lifetime Value Response  Coverage Education  \\\n",
       "0  BU79786  Washington              2763.519279       No     Basic  Bachelor   \n",
       "1  QZ44356     Arizona              6979.535903       No  Extended  Bachelor   \n",
       "2  AI49188      Nevada             12887.431650       No   Premium  Bachelor   \n",
       "3  WW63253  California              7645.861827       No     Basic  Bachelor   \n",
       "4  HB64268  Washington              2813.692575       No     Basic  Bachelor   \n",
       "\n",
       "  Effective To Date Employment Status Gender  Income  ...  \\\n",
       "0           2/24/11          Employed      F   56274  ...   \n",
       "1           1/31/11        Unemployed      F       0  ...   \n",
       "2           2/19/11          Employed      F   48767  ...   \n",
       "3           1/20/11        Unemployed      M       0  ...   \n",
       "4            2/3/11          Employed      M   43836  ...   \n",
       "\n",
       "  Months Since Policy Inception Number of Open Complaints  Number of Policies  \\\n",
       "0                             5                         0                   1   \n",
       "1                            42                         0                   8   \n",
       "2                            38                         0                   2   \n",
       "3                            65                         0                   7   \n",
       "4                            44                         0                   1   \n",
       "\n",
       "      Policy Type        Policy  Renew Offer Type  Sales Channel  \\\n",
       "0  Corporate Auto  Corporate L3            Offer1          Agent   \n",
       "1   Personal Auto   Personal L3            Offer3          Agent   \n",
       "2   Personal Auto   Personal L3            Offer1          Agent   \n",
       "3  Corporate Auto  Corporate L2            Offer1    Call Center   \n",
       "4   Personal Auto   Personal L1            Offer1          Agent   \n",
       "\n",
       "  Total Claim Amount  Vehicle Class Vehicle Size  \n",
       "0         384.811147   Two-Door Car      Medsize  \n",
       "1        1131.464935  Four-Door Car      Medsize  \n",
       "2         566.472247   Two-Door Car      Medsize  \n",
       "3         529.881344            SUV      Medsize  \n",
       "4         138.130879  Four-Door Car      Medsize  \n",
       "\n",
       "[5 rows x 24 columns]"
      ]
     },
     "execution_count": 6,
     "metadata": {},
     "output_type": "execute_result"
    }
   ],
   "source": [
    "df.head()"
   ]
  },
  {
   "cell_type": "code",
   "execution_count": 7,
   "metadata": {
    "scrolled": false
   },
   "outputs": [],
   "source": [
    "#Move the \"Total Claim Amount\" column to the end\n",
    "df=df[['Customer', 'State', 'Customer Lifetime Value', 'Response', 'Coverage',\n",
    "       'Education', 'Effective To Date', 'Employment Status', 'Gender',\n",
    "       'Income', 'Location Code', 'Marital Status', 'Monthly Premium Auto',\n",
    "       'Months Since Last Claim', 'Months Since Policy Inception',\n",
    "       'Number of Open Complaints', 'Number of Policies', 'Policy Type',\n",
    "       'Policy', 'Renew Offer Type', 'Sales Channel',\n",
    "       'Vehicle Class', 'Vehicle Size','Total Claim Amount']]"
   ]
  },
  {
   "cell_type": "code",
   "execution_count": 8,
   "metadata": {
    "scrolled": false
   },
   "outputs": [
    {
     "data": {
      "text/html": [
       "<div>\n",
       "<style scoped>\n",
       "    .dataframe tbody tr th:only-of-type {\n",
       "        vertical-align: middle;\n",
       "    }\n",
       "\n",
       "    .dataframe tbody tr th {\n",
       "        vertical-align: top;\n",
       "    }\n",
       "\n",
       "    .dataframe thead th {\n",
       "        text-align: right;\n",
       "    }\n",
       "</style>\n",
       "<table border=\"1\" class=\"dataframe\">\n",
       "  <thead>\n",
       "    <tr style=\"text-align: right;\">\n",
       "      <th></th>\n",
       "      <th>Customer</th>\n",
       "      <th>State</th>\n",
       "      <th>Customer Lifetime Value</th>\n",
       "      <th>Response</th>\n",
       "      <th>Coverage</th>\n",
       "      <th>Education</th>\n",
       "      <th>Effective To Date</th>\n",
       "      <th>Employment Status</th>\n",
       "      <th>Gender</th>\n",
       "      <th>Income</th>\n",
       "      <th>...</th>\n",
       "      <th>Months Since Policy Inception</th>\n",
       "      <th>Number of Open Complaints</th>\n",
       "      <th>Number of Policies</th>\n",
       "      <th>Policy Type</th>\n",
       "      <th>Policy</th>\n",
       "      <th>Renew Offer Type</th>\n",
       "      <th>Sales Channel</th>\n",
       "      <th>Vehicle Class</th>\n",
       "      <th>Vehicle Size</th>\n",
       "      <th>Total Claim Amount</th>\n",
       "    </tr>\n",
       "  </thead>\n",
       "  <tbody>\n",
       "    <tr>\n",
       "      <th>0</th>\n",
       "      <td>BU79786</td>\n",
       "      <td>Washington</td>\n",
       "      <td>2763.519279</td>\n",
       "      <td>No</td>\n",
       "      <td>Basic</td>\n",
       "      <td>Bachelor</td>\n",
       "      <td>2/24/11</td>\n",
       "      <td>Employed</td>\n",
       "      <td>F</td>\n",
       "      <td>56274</td>\n",
       "      <td>...</td>\n",
       "      <td>5</td>\n",
       "      <td>0</td>\n",
       "      <td>1</td>\n",
       "      <td>Corporate Auto</td>\n",
       "      <td>Corporate L3</td>\n",
       "      <td>Offer1</td>\n",
       "      <td>Agent</td>\n",
       "      <td>Two-Door Car</td>\n",
       "      <td>Medsize</td>\n",
       "      <td>384.811147</td>\n",
       "    </tr>\n",
       "    <tr>\n",
       "      <th>1</th>\n",
       "      <td>QZ44356</td>\n",
       "      <td>Arizona</td>\n",
       "      <td>6979.535903</td>\n",
       "      <td>No</td>\n",
       "      <td>Extended</td>\n",
       "      <td>Bachelor</td>\n",
       "      <td>1/31/11</td>\n",
       "      <td>Unemployed</td>\n",
       "      <td>F</td>\n",
       "      <td>0</td>\n",
       "      <td>...</td>\n",
       "      <td>42</td>\n",
       "      <td>0</td>\n",
       "      <td>8</td>\n",
       "      <td>Personal Auto</td>\n",
       "      <td>Personal L3</td>\n",
       "      <td>Offer3</td>\n",
       "      <td>Agent</td>\n",
       "      <td>Four-Door Car</td>\n",
       "      <td>Medsize</td>\n",
       "      <td>1131.464935</td>\n",
       "    </tr>\n",
       "    <tr>\n",
       "      <th>2</th>\n",
       "      <td>AI49188</td>\n",
       "      <td>Nevada</td>\n",
       "      <td>12887.431650</td>\n",
       "      <td>No</td>\n",
       "      <td>Premium</td>\n",
       "      <td>Bachelor</td>\n",
       "      <td>2/19/11</td>\n",
       "      <td>Employed</td>\n",
       "      <td>F</td>\n",
       "      <td>48767</td>\n",
       "      <td>...</td>\n",
       "      <td>38</td>\n",
       "      <td>0</td>\n",
       "      <td>2</td>\n",
       "      <td>Personal Auto</td>\n",
       "      <td>Personal L3</td>\n",
       "      <td>Offer1</td>\n",
       "      <td>Agent</td>\n",
       "      <td>Two-Door Car</td>\n",
       "      <td>Medsize</td>\n",
       "      <td>566.472247</td>\n",
       "    </tr>\n",
       "    <tr>\n",
       "      <th>3</th>\n",
       "      <td>WW63253</td>\n",
       "      <td>California</td>\n",
       "      <td>7645.861827</td>\n",
       "      <td>No</td>\n",
       "      <td>Basic</td>\n",
       "      <td>Bachelor</td>\n",
       "      <td>1/20/11</td>\n",
       "      <td>Unemployed</td>\n",
       "      <td>M</td>\n",
       "      <td>0</td>\n",
       "      <td>...</td>\n",
       "      <td>65</td>\n",
       "      <td>0</td>\n",
       "      <td>7</td>\n",
       "      <td>Corporate Auto</td>\n",
       "      <td>Corporate L2</td>\n",
       "      <td>Offer1</td>\n",
       "      <td>Call Center</td>\n",
       "      <td>SUV</td>\n",
       "      <td>Medsize</td>\n",
       "      <td>529.881344</td>\n",
       "    </tr>\n",
       "    <tr>\n",
       "      <th>4</th>\n",
       "      <td>HB64268</td>\n",
       "      <td>Washington</td>\n",
       "      <td>2813.692575</td>\n",
       "      <td>No</td>\n",
       "      <td>Basic</td>\n",
       "      <td>Bachelor</td>\n",
       "      <td>2/3/11</td>\n",
       "      <td>Employed</td>\n",
       "      <td>M</td>\n",
       "      <td>43836</td>\n",
       "      <td>...</td>\n",
       "      <td>44</td>\n",
       "      <td>0</td>\n",
       "      <td>1</td>\n",
       "      <td>Personal Auto</td>\n",
       "      <td>Personal L1</td>\n",
       "      <td>Offer1</td>\n",
       "      <td>Agent</td>\n",
       "      <td>Four-Door Car</td>\n",
       "      <td>Medsize</td>\n",
       "      <td>138.130879</td>\n",
       "    </tr>\n",
       "  </tbody>\n",
       "</table>\n",
       "<p>5 rows × 24 columns</p>\n",
       "</div>"
      ],
      "text/plain": [
       "  Customer       State  Customer Lifetime Value Response  Coverage Education  \\\n",
       "0  BU79786  Washington              2763.519279       No     Basic  Bachelor   \n",
       "1  QZ44356     Arizona              6979.535903       No  Extended  Bachelor   \n",
       "2  AI49188      Nevada             12887.431650       No   Premium  Bachelor   \n",
       "3  WW63253  California              7645.861827       No     Basic  Bachelor   \n",
       "4  HB64268  Washington              2813.692575       No     Basic  Bachelor   \n",
       "\n",
       "  Effective To Date Employment Status Gender  Income  ...  \\\n",
       "0           2/24/11          Employed      F   56274  ...   \n",
       "1           1/31/11        Unemployed      F       0  ...   \n",
       "2           2/19/11          Employed      F   48767  ...   \n",
       "3           1/20/11        Unemployed      M       0  ...   \n",
       "4            2/3/11          Employed      M   43836  ...   \n",
       "\n",
       "  Months Since Policy Inception Number of Open Complaints  Number of Policies  \\\n",
       "0                             5                         0                   1   \n",
       "1                            42                         0                   8   \n",
       "2                            38                         0                   2   \n",
       "3                            65                         0                   7   \n",
       "4                            44                         0                   1   \n",
       "\n",
       "      Policy Type        Policy  Renew Offer Type  Sales Channel  \\\n",
       "0  Corporate Auto  Corporate L3            Offer1          Agent   \n",
       "1   Personal Auto   Personal L3            Offer3          Agent   \n",
       "2   Personal Auto   Personal L3            Offer1          Agent   \n",
       "3  Corporate Auto  Corporate L2            Offer1    Call Center   \n",
       "4   Personal Auto   Personal L1            Offer1          Agent   \n",
       "\n",
       "   Vehicle Class Vehicle Size Total Claim Amount  \n",
       "0   Two-Door Car      Medsize         384.811147  \n",
       "1  Four-Door Car      Medsize        1131.464935  \n",
       "2   Two-Door Car      Medsize         566.472247  \n",
       "3            SUV      Medsize         529.881344  \n",
       "4  Four-Door Car      Medsize         138.130879  \n",
       "\n",
       "[5 rows x 24 columns]"
      ]
     },
     "execution_count": 8,
     "metadata": {},
     "output_type": "execute_result"
    }
   ],
   "source": [
    "df.head()"
   ]
  },
  {
   "cell_type": "markdown",
   "metadata": {},
   "source": [
    "#### 2. Checking the type of data"
   ]
  },
  {
   "cell_type": "code",
   "execution_count": 9,
   "metadata": {
    "scrolled": false
   },
   "outputs": [
    {
     "name": "stdout",
     "output_type": "stream",
     "text": [
      "<class 'pandas.core.frame.DataFrame'>\n",
      "RangeIndex: 9134 entries, 0 to 9133\n",
      "Data columns (total 24 columns):\n",
      " #   Column                         Non-Null Count  Dtype  \n",
      "---  ------                         --------------  -----  \n",
      " 0   Customer                       9134 non-null   object \n",
      " 1   State                          9134 non-null   object \n",
      " 2   Customer Lifetime Value        9134 non-null   float64\n",
      " 3   Response                       9134 non-null   object \n",
      " 4   Coverage                       9134 non-null   object \n",
      " 5   Education                      9134 non-null   object \n",
      " 6   Effective To Date              9134 non-null   object \n",
      " 7   Employment Status              9134 non-null   object \n",
      " 8   Gender                         9134 non-null   object \n",
      " 9   Income                         9134 non-null   int64  \n",
      " 10  Location Code                  9134 non-null   object \n",
      " 11  Marital Status                 9134 non-null   object \n",
      " 12  Monthly Premium Auto           9134 non-null   int64  \n",
      " 13  Months Since Last Claim        9134 non-null   int64  \n",
      " 14  Months Since Policy Inception  9134 non-null   int64  \n",
      " 15  Number of Open Complaints      9134 non-null   int64  \n",
      " 16  Number of Policies             9134 non-null   int64  \n",
      " 17  Policy Type                    9134 non-null   object \n",
      " 18  Policy                         9134 non-null   object \n",
      " 19  Renew Offer Type               9134 non-null   object \n",
      " 20  Sales Channel                  9134 non-null   object \n",
      " 21  Vehicle Class                  9134 non-null   object \n",
      " 22  Vehicle Size                   9134 non-null   object \n",
      " 23  Total Claim Amount             9134 non-null   float64\n",
      "dtypes: float64(2), int64(6), object(16)\n",
      "memory usage: 1.7+ MB\n"
     ]
    }
   ],
   "source": [
    "df.info()"
   ]
  },
  {
   "cell_type": "markdown",
   "metadata": {},
   "source": [
    "The \"Effective To Date\" columns needs to be in a datetime format"
   ]
  },
  {
   "cell_type": "code",
   "execution_count": 10,
   "metadata": {
    "scrolled": false
   },
   "outputs": [
    {
     "name": "stdout",
     "output_type": "stream",
     "text": [
      "<class 'pandas.core.frame.DataFrame'>\n",
      "RangeIndex: 9134 entries, 0 to 9133\n",
      "Data columns (total 24 columns):\n",
      " #   Column                         Non-Null Count  Dtype         \n",
      "---  ------                         --------------  -----         \n",
      " 0   Customer                       9134 non-null   object        \n",
      " 1   State                          9134 non-null   object        \n",
      " 2   Customer Lifetime Value        9134 non-null   float64       \n",
      " 3   Response                       9134 non-null   object        \n",
      " 4   Coverage                       9134 non-null   object        \n",
      " 5   Education                      9134 non-null   object        \n",
      " 6   Effective To Date              9134 non-null   datetime64[ns]\n",
      " 7   Employment Status              9134 non-null   object        \n",
      " 8   Gender                         9134 non-null   object        \n",
      " 9   Income                         9134 non-null   int64         \n",
      " 10  Location Code                  9134 non-null   object        \n",
      " 11  Marital Status                 9134 non-null   object        \n",
      " 12  Monthly Premium Auto           9134 non-null   int64         \n",
      " 13  Months Since Last Claim        9134 non-null   int64         \n",
      " 14  Months Since Policy Inception  9134 non-null   int64         \n",
      " 15  Number of Open Complaints      9134 non-null   int64         \n",
      " 16  Number of Policies             9134 non-null   int64         \n",
      " 17  Policy Type                    9134 non-null   object        \n",
      " 18  Policy                         9134 non-null   object        \n",
      " 19  Renew Offer Type               9134 non-null   object        \n",
      " 20  Sales Channel                  9134 non-null   object        \n",
      " 21  Vehicle Class                  9134 non-null   object        \n",
      " 22  Vehicle Size                   9134 non-null   object        \n",
      " 23  Total Claim Amount             9134 non-null   float64       \n",
      "dtypes: datetime64[ns](1), float64(2), int64(6), object(15)\n",
      "memory usage: 1.7+ MB\n"
     ]
    }
   ],
   "source": [
    "df[\"Effective To Date\"]=pd.to_datetime(df[\"Effective To Date\"])\n",
    "df.info()"
   ]
  },
  {
   "cell_type": "markdown",
   "metadata": {},
   "source": [
    "#### 3. Checking for missing values"
   ]
  },
  {
   "cell_type": "code",
   "execution_count": 11,
   "metadata": {
    "scrolled": false
   },
   "outputs": [
    {
     "data": {
      "text/plain": [
       "Customer                         0.0\n",
       "State                            0.0\n",
       "Customer Lifetime Value          0.0\n",
       "Response                         0.0\n",
       "Coverage                         0.0\n",
       "Education                        0.0\n",
       "Effective To Date                0.0\n",
       "Employment Status                0.0\n",
       "Gender                           0.0\n",
       "Income                           0.0\n",
       "Location Code                    0.0\n",
       "Marital Status                   0.0\n",
       "Monthly Premium Auto             0.0\n",
       "Months Since Last Claim          0.0\n",
       "Months Since Policy Inception    0.0\n",
       "Number of Open Complaints        0.0\n",
       "Number of Policies               0.0\n",
       "Policy Type                      0.0\n",
       "Policy                           0.0\n",
       "Renew Offer Type                 0.0\n",
       "Sales Channel                    0.0\n",
       "Vehicle Class                    0.0\n",
       "Vehicle Size                     0.0\n",
       "Total Claim Amount               0.0\n",
       "dtype: float64"
      ]
     },
     "execution_count": 11,
     "metadata": {},
     "output_type": "execute_result"
    }
   ],
   "source": [
    "round(df.isnull().sum()/len(df),10)*100"
   ]
  },
  {
   "cell_type": "markdown",
   "metadata": {},
   "source": [
    "=> There are no missing values"
   ]
  },
  {
   "cell_type": "markdown",
   "metadata": {},
   "source": [
    "#### 4. Looking for any typos to correct in the categorical data"
   ]
  },
  {
   "cell_type": "code",
   "execution_count": 12,
   "metadata": {
    "scrolled": false
   },
   "outputs": [
    {
     "data": {
      "text/html": [
       "<div>\n",
       "<style scoped>\n",
       "    .dataframe tbody tr th:only-of-type {\n",
       "        vertical-align: middle;\n",
       "    }\n",
       "\n",
       "    .dataframe tbody tr th {\n",
       "        vertical-align: top;\n",
       "    }\n",
       "\n",
       "    .dataframe thead th {\n",
       "        text-align: right;\n",
       "    }\n",
       "</style>\n",
       "<table border=\"1\" class=\"dataframe\">\n",
       "  <thead>\n",
       "    <tr style=\"text-align: right;\">\n",
       "      <th></th>\n",
       "      <th>Customer</th>\n",
       "      <th>State</th>\n",
       "      <th>Response</th>\n",
       "      <th>Coverage</th>\n",
       "      <th>Education</th>\n",
       "      <th>Employment Status</th>\n",
       "      <th>Gender</th>\n",
       "      <th>Location Code</th>\n",
       "      <th>Marital Status</th>\n",
       "      <th>Policy Type</th>\n",
       "      <th>Policy</th>\n",
       "      <th>Renew Offer Type</th>\n",
       "      <th>Sales Channel</th>\n",
       "      <th>Vehicle Class</th>\n",
       "      <th>Vehicle Size</th>\n",
       "    </tr>\n",
       "  </thead>\n",
       "  <tbody>\n",
       "    <tr>\n",
       "      <th>0</th>\n",
       "      <td>BU79786</td>\n",
       "      <td>Washington</td>\n",
       "      <td>No</td>\n",
       "      <td>Basic</td>\n",
       "      <td>Bachelor</td>\n",
       "      <td>Employed</td>\n",
       "      <td>F</td>\n",
       "      <td>Suburban</td>\n",
       "      <td>Married</td>\n",
       "      <td>Corporate Auto</td>\n",
       "      <td>Corporate L3</td>\n",
       "      <td>Offer1</td>\n",
       "      <td>Agent</td>\n",
       "      <td>Two-Door Car</td>\n",
       "      <td>Medsize</td>\n",
       "    </tr>\n",
       "    <tr>\n",
       "      <th>1</th>\n",
       "      <td>QZ44356</td>\n",
       "      <td>Arizona</td>\n",
       "      <td>No</td>\n",
       "      <td>Extended</td>\n",
       "      <td>Bachelor</td>\n",
       "      <td>Unemployed</td>\n",
       "      <td>F</td>\n",
       "      <td>Suburban</td>\n",
       "      <td>Single</td>\n",
       "      <td>Personal Auto</td>\n",
       "      <td>Personal L3</td>\n",
       "      <td>Offer3</td>\n",
       "      <td>Agent</td>\n",
       "      <td>Four-Door Car</td>\n",
       "      <td>Medsize</td>\n",
       "    </tr>\n",
       "    <tr>\n",
       "      <th>2</th>\n",
       "      <td>AI49188</td>\n",
       "      <td>Nevada</td>\n",
       "      <td>No</td>\n",
       "      <td>Premium</td>\n",
       "      <td>Bachelor</td>\n",
       "      <td>Employed</td>\n",
       "      <td>F</td>\n",
       "      <td>Suburban</td>\n",
       "      <td>Married</td>\n",
       "      <td>Personal Auto</td>\n",
       "      <td>Personal L3</td>\n",
       "      <td>Offer1</td>\n",
       "      <td>Agent</td>\n",
       "      <td>Two-Door Car</td>\n",
       "      <td>Medsize</td>\n",
       "    </tr>\n",
       "    <tr>\n",
       "      <th>3</th>\n",
       "      <td>WW63253</td>\n",
       "      <td>California</td>\n",
       "      <td>No</td>\n",
       "      <td>Basic</td>\n",
       "      <td>Bachelor</td>\n",
       "      <td>Unemployed</td>\n",
       "      <td>M</td>\n",
       "      <td>Suburban</td>\n",
       "      <td>Married</td>\n",
       "      <td>Corporate Auto</td>\n",
       "      <td>Corporate L2</td>\n",
       "      <td>Offer1</td>\n",
       "      <td>Call Center</td>\n",
       "      <td>SUV</td>\n",
       "      <td>Medsize</td>\n",
       "    </tr>\n",
       "    <tr>\n",
       "      <th>4</th>\n",
       "      <td>HB64268</td>\n",
       "      <td>Washington</td>\n",
       "      <td>No</td>\n",
       "      <td>Basic</td>\n",
       "      <td>Bachelor</td>\n",
       "      <td>Employed</td>\n",
       "      <td>M</td>\n",
       "      <td>Rural</td>\n",
       "      <td>Single</td>\n",
       "      <td>Personal Auto</td>\n",
       "      <td>Personal L1</td>\n",
       "      <td>Offer1</td>\n",
       "      <td>Agent</td>\n",
       "      <td>Four-Door Car</td>\n",
       "      <td>Medsize</td>\n",
       "    </tr>\n",
       "    <tr>\n",
       "      <th>...</th>\n",
       "      <td>...</td>\n",
       "      <td>...</td>\n",
       "      <td>...</td>\n",
       "      <td>...</td>\n",
       "      <td>...</td>\n",
       "      <td>...</td>\n",
       "      <td>...</td>\n",
       "      <td>...</td>\n",
       "      <td>...</td>\n",
       "      <td>...</td>\n",
       "      <td>...</td>\n",
       "      <td>...</td>\n",
       "      <td>...</td>\n",
       "      <td>...</td>\n",
       "      <td>...</td>\n",
       "    </tr>\n",
       "    <tr>\n",
       "      <th>9129</th>\n",
       "      <td>LA72316</td>\n",
       "      <td>California</td>\n",
       "      <td>No</td>\n",
       "      <td>Basic</td>\n",
       "      <td>Bachelor</td>\n",
       "      <td>Employed</td>\n",
       "      <td>M</td>\n",
       "      <td>Urban</td>\n",
       "      <td>Married</td>\n",
       "      <td>Personal Auto</td>\n",
       "      <td>Personal L1</td>\n",
       "      <td>Offer2</td>\n",
       "      <td>Web</td>\n",
       "      <td>Four-Door Car</td>\n",
       "      <td>Medsize</td>\n",
       "    </tr>\n",
       "    <tr>\n",
       "      <th>9130</th>\n",
       "      <td>PK87824</td>\n",
       "      <td>California</td>\n",
       "      <td>Yes</td>\n",
       "      <td>Extended</td>\n",
       "      <td>College</td>\n",
       "      <td>Employed</td>\n",
       "      <td>F</td>\n",
       "      <td>Suburban</td>\n",
       "      <td>Divorced</td>\n",
       "      <td>Corporate Auto</td>\n",
       "      <td>Corporate L3</td>\n",
       "      <td>Offer1</td>\n",
       "      <td>Branch</td>\n",
       "      <td>Four-Door Car</td>\n",
       "      <td>Medsize</td>\n",
       "    </tr>\n",
       "    <tr>\n",
       "      <th>9131</th>\n",
       "      <td>TD14365</td>\n",
       "      <td>California</td>\n",
       "      <td>No</td>\n",
       "      <td>Extended</td>\n",
       "      <td>Bachelor</td>\n",
       "      <td>Unemployed</td>\n",
       "      <td>M</td>\n",
       "      <td>Suburban</td>\n",
       "      <td>Single</td>\n",
       "      <td>Corporate Auto</td>\n",
       "      <td>Corporate L2</td>\n",
       "      <td>Offer1</td>\n",
       "      <td>Branch</td>\n",
       "      <td>Four-Door Car</td>\n",
       "      <td>Medsize</td>\n",
       "    </tr>\n",
       "    <tr>\n",
       "      <th>9132</th>\n",
       "      <td>UP19263</td>\n",
       "      <td>California</td>\n",
       "      <td>No</td>\n",
       "      <td>Extended</td>\n",
       "      <td>College</td>\n",
       "      <td>Employed</td>\n",
       "      <td>M</td>\n",
       "      <td>Suburban</td>\n",
       "      <td>Married</td>\n",
       "      <td>Personal Auto</td>\n",
       "      <td>Personal L2</td>\n",
       "      <td>Offer3</td>\n",
       "      <td>Branch</td>\n",
       "      <td>Four-Door Car</td>\n",
       "      <td>Large</td>\n",
       "    </tr>\n",
       "    <tr>\n",
       "      <th>9133</th>\n",
       "      <td>Y167826</td>\n",
       "      <td>California</td>\n",
       "      <td>No</td>\n",
       "      <td>Extended</td>\n",
       "      <td>College</td>\n",
       "      <td>Unemployed</td>\n",
       "      <td>M</td>\n",
       "      <td>Suburban</td>\n",
       "      <td>Single</td>\n",
       "      <td>Corporate Auto</td>\n",
       "      <td>Corporate L3</td>\n",
       "      <td>Offer4</td>\n",
       "      <td>Call Center</td>\n",
       "      <td>Two-Door Car</td>\n",
       "      <td>Medsize</td>\n",
       "    </tr>\n",
       "  </tbody>\n",
       "</table>\n",
       "<p>9134 rows × 15 columns</p>\n",
       "</div>"
      ],
      "text/plain": [
       "     Customer       State Response  Coverage Education Employment Status  \\\n",
       "0     BU79786  Washington       No     Basic  Bachelor          Employed   \n",
       "1     QZ44356     Arizona       No  Extended  Bachelor        Unemployed   \n",
       "2     AI49188      Nevada       No   Premium  Bachelor          Employed   \n",
       "3     WW63253  California       No     Basic  Bachelor        Unemployed   \n",
       "4     HB64268  Washington       No     Basic  Bachelor          Employed   \n",
       "...       ...         ...      ...       ...       ...               ...   \n",
       "9129  LA72316  California       No     Basic  Bachelor          Employed   \n",
       "9130  PK87824  California      Yes  Extended   College          Employed   \n",
       "9131  TD14365  California       No  Extended  Bachelor        Unemployed   \n",
       "9132  UP19263  California       No  Extended   College          Employed   \n",
       "9133  Y167826  California       No  Extended   College        Unemployed   \n",
       "\n",
       "     Gender Location Code Marital Status     Policy Type        Policy  \\\n",
       "0         F      Suburban        Married  Corporate Auto  Corporate L3   \n",
       "1         F      Suburban         Single   Personal Auto   Personal L3   \n",
       "2         F      Suburban        Married   Personal Auto   Personal L3   \n",
       "3         M      Suburban        Married  Corporate Auto  Corporate L2   \n",
       "4         M         Rural         Single   Personal Auto   Personal L1   \n",
       "...     ...           ...            ...             ...           ...   \n",
       "9129      M         Urban        Married   Personal Auto   Personal L1   \n",
       "9130      F      Suburban       Divorced  Corporate Auto  Corporate L3   \n",
       "9131      M      Suburban         Single  Corporate Auto  Corporate L2   \n",
       "9132      M      Suburban        Married   Personal Auto   Personal L2   \n",
       "9133      M      Suburban         Single  Corporate Auto  Corporate L3   \n",
       "\n",
       "     Renew Offer Type Sales Channel  Vehicle Class Vehicle Size  \n",
       "0              Offer1         Agent   Two-Door Car      Medsize  \n",
       "1              Offer3         Agent  Four-Door Car      Medsize  \n",
       "2              Offer1         Agent   Two-Door Car      Medsize  \n",
       "3              Offer1   Call Center            SUV      Medsize  \n",
       "4              Offer1         Agent  Four-Door Car      Medsize  \n",
       "...               ...           ...            ...          ...  \n",
       "9129           Offer2           Web  Four-Door Car      Medsize  \n",
       "9130           Offer1        Branch  Four-Door Car      Medsize  \n",
       "9131           Offer1        Branch  Four-Door Car      Medsize  \n",
       "9132           Offer3        Branch  Four-Door Car        Large  \n",
       "9133           Offer4   Call Center   Two-Door Car      Medsize  \n",
       "\n",
       "[9134 rows x 15 columns]"
      ]
     },
     "execution_count": 12,
     "metadata": {},
     "output_type": "execute_result"
    }
   ],
   "source": [
    "df_cat=df.select_dtypes(object)\n",
    "df_cat"
   ]
  },
  {
   "cell_type": "code",
   "execution_count": 13,
   "metadata": {
    "scrolled": false
   },
   "outputs": [
    {
     "name": "stdout",
     "output_type": "stream",
     "text": [
      "('column: ', 'Customer') ['BU79786' 'QZ44356' 'AI49188' ... 'TD14365' 'UP19263' 'Y167826']\n",
      "('column: ', 'State') ['Washington' 'Arizona' 'Nevada' 'California' 'Oregon']\n",
      "('column: ', 'Response') ['No' 'Yes']\n",
      "('column: ', 'Coverage') ['Basic' 'Extended' 'Premium']\n",
      "('column: ', 'Education') ['Bachelor' 'College' 'Master' 'High School or Below' 'Doctor']\n",
      "('column: ', 'Employment Status') ['Employed' 'Unemployed' 'Medical Leave' 'Disabled' 'Retired']\n",
      "('column: ', 'Gender') ['F' 'M']\n",
      "('column: ', 'Location Code') ['Suburban' 'Rural' 'Urban']\n",
      "('column: ', 'Marital Status') ['Married' 'Single' 'Divorced']\n",
      "('column: ', 'Policy Type') ['Corporate Auto' 'Personal Auto' 'Special Auto']\n",
      "('column: ', 'Policy') ['Corporate L3' 'Personal L3' 'Corporate L2' 'Personal L1' 'Special L2'\n",
      " 'Corporate L1' 'Personal L2' 'Special L1' 'Special L3']\n",
      "('column: ', 'Renew Offer Type') ['Offer1' 'Offer3' 'Offer2' 'Offer4']\n",
      "('column: ', 'Sales Channel') ['Agent' 'Call Center' 'Web' 'Branch']\n",
      "('column: ', 'Vehicle Class') ['Two-Door Car' 'Four-Door Car' 'SUV' 'Luxury SUV' 'Sports Car'\n",
      " 'Luxury Car']\n",
      "('column: ', 'Vehicle Size') ['Medsize' 'Small' 'Large']\n"
     ]
    }
   ],
   "source": [
    "for i in df_cat.columns:\n",
    "    print((\"column: \",i),df_cat[i].unique())"
   ]
  },
  {
   "cell_type": "markdown",
   "metadata": {},
   "source": [
    "=> There are not any typos to correct in the values of categorical data"
   ]
  },
  {
   "cell_type": "markdown",
   "metadata": {},
   "source": [
    "#### 5. Drop duplicates"
   ]
  },
  {
   "cell_type": "code",
   "execution_count": 14,
   "metadata": {
    "scrolled": false
   },
   "outputs": [
    {
     "data": {
      "text/html": [
       "<div>\n",
       "<style scoped>\n",
       "    .dataframe tbody tr th:only-of-type {\n",
       "        vertical-align: middle;\n",
       "    }\n",
       "\n",
       "    .dataframe tbody tr th {\n",
       "        vertical-align: top;\n",
       "    }\n",
       "\n",
       "    .dataframe thead th {\n",
       "        text-align: right;\n",
       "    }\n",
       "</style>\n",
       "<table border=\"1\" class=\"dataframe\">\n",
       "  <thead>\n",
       "    <tr style=\"text-align: right;\">\n",
       "      <th></th>\n",
       "      <th>Customer</th>\n",
       "      <th>State</th>\n",
       "      <th>Customer Lifetime Value</th>\n",
       "      <th>Response</th>\n",
       "      <th>Coverage</th>\n",
       "      <th>Education</th>\n",
       "      <th>Effective To Date</th>\n",
       "      <th>Employment Status</th>\n",
       "      <th>Gender</th>\n",
       "      <th>Income</th>\n",
       "      <th>...</th>\n",
       "      <th>Months Since Policy Inception</th>\n",
       "      <th>Number of Open Complaints</th>\n",
       "      <th>Number of Policies</th>\n",
       "      <th>Policy Type</th>\n",
       "      <th>Policy</th>\n",
       "      <th>Renew Offer Type</th>\n",
       "      <th>Sales Channel</th>\n",
       "      <th>Vehicle Class</th>\n",
       "      <th>Vehicle Size</th>\n",
       "      <th>Total Claim Amount</th>\n",
       "    </tr>\n",
       "  </thead>\n",
       "  <tbody>\n",
       "    <tr>\n",
       "      <th>0</th>\n",
       "      <td>BU79786</td>\n",
       "      <td>Washington</td>\n",
       "      <td>2763.519279</td>\n",
       "      <td>No</td>\n",
       "      <td>Basic</td>\n",
       "      <td>Bachelor</td>\n",
       "      <td>2011-02-24</td>\n",
       "      <td>Employed</td>\n",
       "      <td>F</td>\n",
       "      <td>56274</td>\n",
       "      <td>...</td>\n",
       "      <td>5</td>\n",
       "      <td>0</td>\n",
       "      <td>1</td>\n",
       "      <td>Corporate Auto</td>\n",
       "      <td>Corporate L3</td>\n",
       "      <td>Offer1</td>\n",
       "      <td>Agent</td>\n",
       "      <td>Two-Door Car</td>\n",
       "      <td>Medsize</td>\n",
       "      <td>384.811147</td>\n",
       "    </tr>\n",
       "    <tr>\n",
       "      <th>1</th>\n",
       "      <td>QZ44356</td>\n",
       "      <td>Arizona</td>\n",
       "      <td>6979.535903</td>\n",
       "      <td>No</td>\n",
       "      <td>Extended</td>\n",
       "      <td>Bachelor</td>\n",
       "      <td>2011-01-31</td>\n",
       "      <td>Unemployed</td>\n",
       "      <td>F</td>\n",
       "      <td>0</td>\n",
       "      <td>...</td>\n",
       "      <td>42</td>\n",
       "      <td>0</td>\n",
       "      <td>8</td>\n",
       "      <td>Personal Auto</td>\n",
       "      <td>Personal L3</td>\n",
       "      <td>Offer3</td>\n",
       "      <td>Agent</td>\n",
       "      <td>Four-Door Car</td>\n",
       "      <td>Medsize</td>\n",
       "      <td>1131.464935</td>\n",
       "    </tr>\n",
       "    <tr>\n",
       "      <th>2</th>\n",
       "      <td>AI49188</td>\n",
       "      <td>Nevada</td>\n",
       "      <td>12887.431650</td>\n",
       "      <td>No</td>\n",
       "      <td>Premium</td>\n",
       "      <td>Bachelor</td>\n",
       "      <td>2011-02-19</td>\n",
       "      <td>Employed</td>\n",
       "      <td>F</td>\n",
       "      <td>48767</td>\n",
       "      <td>...</td>\n",
       "      <td>38</td>\n",
       "      <td>0</td>\n",
       "      <td>2</td>\n",
       "      <td>Personal Auto</td>\n",
       "      <td>Personal L3</td>\n",
       "      <td>Offer1</td>\n",
       "      <td>Agent</td>\n",
       "      <td>Two-Door Car</td>\n",
       "      <td>Medsize</td>\n",
       "      <td>566.472247</td>\n",
       "    </tr>\n",
       "    <tr>\n",
       "      <th>3</th>\n",
       "      <td>WW63253</td>\n",
       "      <td>California</td>\n",
       "      <td>7645.861827</td>\n",
       "      <td>No</td>\n",
       "      <td>Basic</td>\n",
       "      <td>Bachelor</td>\n",
       "      <td>2011-01-20</td>\n",
       "      <td>Unemployed</td>\n",
       "      <td>M</td>\n",
       "      <td>0</td>\n",
       "      <td>...</td>\n",
       "      <td>65</td>\n",
       "      <td>0</td>\n",
       "      <td>7</td>\n",
       "      <td>Corporate Auto</td>\n",
       "      <td>Corporate L2</td>\n",
       "      <td>Offer1</td>\n",
       "      <td>Call Center</td>\n",
       "      <td>SUV</td>\n",
       "      <td>Medsize</td>\n",
       "      <td>529.881344</td>\n",
       "    </tr>\n",
       "    <tr>\n",
       "      <th>4</th>\n",
       "      <td>HB64268</td>\n",
       "      <td>Washington</td>\n",
       "      <td>2813.692575</td>\n",
       "      <td>No</td>\n",
       "      <td>Basic</td>\n",
       "      <td>Bachelor</td>\n",
       "      <td>2011-02-03</td>\n",
       "      <td>Employed</td>\n",
       "      <td>M</td>\n",
       "      <td>43836</td>\n",
       "      <td>...</td>\n",
       "      <td>44</td>\n",
       "      <td>0</td>\n",
       "      <td>1</td>\n",
       "      <td>Personal Auto</td>\n",
       "      <td>Personal L1</td>\n",
       "      <td>Offer1</td>\n",
       "      <td>Agent</td>\n",
       "      <td>Four-Door Car</td>\n",
       "      <td>Medsize</td>\n",
       "      <td>138.130879</td>\n",
       "    </tr>\n",
       "    <tr>\n",
       "      <th>...</th>\n",
       "      <td>...</td>\n",
       "      <td>...</td>\n",
       "      <td>...</td>\n",
       "      <td>...</td>\n",
       "      <td>...</td>\n",
       "      <td>...</td>\n",
       "      <td>...</td>\n",
       "      <td>...</td>\n",
       "      <td>...</td>\n",
       "      <td>...</td>\n",
       "      <td>...</td>\n",
       "      <td>...</td>\n",
       "      <td>...</td>\n",
       "      <td>...</td>\n",
       "      <td>...</td>\n",
       "      <td>...</td>\n",
       "      <td>...</td>\n",
       "      <td>...</td>\n",
       "      <td>...</td>\n",
       "      <td>...</td>\n",
       "      <td>...</td>\n",
       "    </tr>\n",
       "    <tr>\n",
       "      <th>9129</th>\n",
       "      <td>LA72316</td>\n",
       "      <td>California</td>\n",
       "      <td>23405.987980</td>\n",
       "      <td>No</td>\n",
       "      <td>Basic</td>\n",
       "      <td>Bachelor</td>\n",
       "      <td>2011-02-10</td>\n",
       "      <td>Employed</td>\n",
       "      <td>M</td>\n",
       "      <td>71941</td>\n",
       "      <td>...</td>\n",
       "      <td>89</td>\n",
       "      <td>0</td>\n",
       "      <td>2</td>\n",
       "      <td>Personal Auto</td>\n",
       "      <td>Personal L1</td>\n",
       "      <td>Offer2</td>\n",
       "      <td>Web</td>\n",
       "      <td>Four-Door Car</td>\n",
       "      <td>Medsize</td>\n",
       "      <td>198.234764</td>\n",
       "    </tr>\n",
       "    <tr>\n",
       "      <th>9130</th>\n",
       "      <td>PK87824</td>\n",
       "      <td>California</td>\n",
       "      <td>3096.511217</td>\n",
       "      <td>Yes</td>\n",
       "      <td>Extended</td>\n",
       "      <td>College</td>\n",
       "      <td>2011-02-12</td>\n",
       "      <td>Employed</td>\n",
       "      <td>F</td>\n",
       "      <td>21604</td>\n",
       "      <td>...</td>\n",
       "      <td>28</td>\n",
       "      <td>0</td>\n",
       "      <td>1</td>\n",
       "      <td>Corporate Auto</td>\n",
       "      <td>Corporate L3</td>\n",
       "      <td>Offer1</td>\n",
       "      <td>Branch</td>\n",
       "      <td>Four-Door Car</td>\n",
       "      <td>Medsize</td>\n",
       "      <td>379.200000</td>\n",
       "    </tr>\n",
       "    <tr>\n",
       "      <th>9131</th>\n",
       "      <td>TD14365</td>\n",
       "      <td>California</td>\n",
       "      <td>8163.890428</td>\n",
       "      <td>No</td>\n",
       "      <td>Extended</td>\n",
       "      <td>Bachelor</td>\n",
       "      <td>2011-02-06</td>\n",
       "      <td>Unemployed</td>\n",
       "      <td>M</td>\n",
       "      <td>0</td>\n",
       "      <td>...</td>\n",
       "      <td>37</td>\n",
       "      <td>3</td>\n",
       "      <td>2</td>\n",
       "      <td>Corporate Auto</td>\n",
       "      <td>Corporate L2</td>\n",
       "      <td>Offer1</td>\n",
       "      <td>Branch</td>\n",
       "      <td>Four-Door Car</td>\n",
       "      <td>Medsize</td>\n",
       "      <td>790.784983</td>\n",
       "    </tr>\n",
       "    <tr>\n",
       "      <th>9132</th>\n",
       "      <td>UP19263</td>\n",
       "      <td>California</td>\n",
       "      <td>7524.442436</td>\n",
       "      <td>No</td>\n",
       "      <td>Extended</td>\n",
       "      <td>College</td>\n",
       "      <td>2011-02-03</td>\n",
       "      <td>Employed</td>\n",
       "      <td>M</td>\n",
       "      <td>21941</td>\n",
       "      <td>...</td>\n",
       "      <td>3</td>\n",
       "      <td>0</td>\n",
       "      <td>3</td>\n",
       "      <td>Personal Auto</td>\n",
       "      <td>Personal L2</td>\n",
       "      <td>Offer3</td>\n",
       "      <td>Branch</td>\n",
       "      <td>Four-Door Car</td>\n",
       "      <td>Large</td>\n",
       "      <td>691.200000</td>\n",
       "    </tr>\n",
       "    <tr>\n",
       "      <th>9133</th>\n",
       "      <td>Y167826</td>\n",
       "      <td>California</td>\n",
       "      <td>2611.836866</td>\n",
       "      <td>No</td>\n",
       "      <td>Extended</td>\n",
       "      <td>College</td>\n",
       "      <td>2011-02-14</td>\n",
       "      <td>Unemployed</td>\n",
       "      <td>M</td>\n",
       "      <td>0</td>\n",
       "      <td>...</td>\n",
       "      <td>90</td>\n",
       "      <td>0</td>\n",
       "      <td>1</td>\n",
       "      <td>Corporate Auto</td>\n",
       "      <td>Corporate L3</td>\n",
       "      <td>Offer4</td>\n",
       "      <td>Call Center</td>\n",
       "      <td>Two-Door Car</td>\n",
       "      <td>Medsize</td>\n",
       "      <td>369.600000</td>\n",
       "    </tr>\n",
       "  </tbody>\n",
       "</table>\n",
       "<p>9134 rows × 24 columns</p>\n",
       "</div>"
      ],
      "text/plain": [
       "     Customer       State  Customer Lifetime Value Response  Coverage  \\\n",
       "0     BU79786  Washington              2763.519279       No     Basic   \n",
       "1     QZ44356     Arizona              6979.535903       No  Extended   \n",
       "2     AI49188      Nevada             12887.431650       No   Premium   \n",
       "3     WW63253  California              7645.861827       No     Basic   \n",
       "4     HB64268  Washington              2813.692575       No     Basic   \n",
       "...       ...         ...                      ...      ...       ...   \n",
       "9129  LA72316  California             23405.987980       No     Basic   \n",
       "9130  PK87824  California              3096.511217      Yes  Extended   \n",
       "9131  TD14365  California              8163.890428       No  Extended   \n",
       "9132  UP19263  California              7524.442436       No  Extended   \n",
       "9133  Y167826  California              2611.836866       No  Extended   \n",
       "\n",
       "     Education Effective To Date Employment Status Gender  Income  ...  \\\n",
       "0     Bachelor        2011-02-24          Employed      F   56274  ...   \n",
       "1     Bachelor        2011-01-31        Unemployed      F       0  ...   \n",
       "2     Bachelor        2011-02-19          Employed      F   48767  ...   \n",
       "3     Bachelor        2011-01-20        Unemployed      M       0  ...   \n",
       "4     Bachelor        2011-02-03          Employed      M   43836  ...   \n",
       "...        ...               ...               ...    ...     ...  ...   \n",
       "9129  Bachelor        2011-02-10          Employed      M   71941  ...   \n",
       "9130   College        2011-02-12          Employed      F   21604  ...   \n",
       "9131  Bachelor        2011-02-06        Unemployed      M       0  ...   \n",
       "9132   College        2011-02-03          Employed      M   21941  ...   \n",
       "9133   College        2011-02-14        Unemployed      M       0  ...   \n",
       "\n",
       "     Months Since Policy Inception Number of Open Complaints  \\\n",
       "0                                5                         0   \n",
       "1                               42                         0   \n",
       "2                               38                         0   \n",
       "3                               65                         0   \n",
       "4                               44                         0   \n",
       "...                            ...                       ...   \n",
       "9129                            89                         0   \n",
       "9130                            28                         0   \n",
       "9131                            37                         3   \n",
       "9132                             3                         0   \n",
       "9133                            90                         0   \n",
       "\n",
       "      Number of Policies     Policy Type        Policy  Renew Offer Type  \\\n",
       "0                      1  Corporate Auto  Corporate L3            Offer1   \n",
       "1                      8   Personal Auto   Personal L3            Offer3   \n",
       "2                      2   Personal Auto   Personal L3            Offer1   \n",
       "3                      7  Corporate Auto  Corporate L2            Offer1   \n",
       "4                      1   Personal Auto   Personal L1            Offer1   \n",
       "...                  ...             ...           ...               ...   \n",
       "9129                   2   Personal Auto   Personal L1            Offer2   \n",
       "9130                   1  Corporate Auto  Corporate L3            Offer1   \n",
       "9131                   2  Corporate Auto  Corporate L2            Offer1   \n",
       "9132                   3   Personal Auto   Personal L2            Offer3   \n",
       "9133                   1  Corporate Auto  Corporate L3            Offer4   \n",
       "\n",
       "      Sales Channel  Vehicle Class Vehicle Size Total Claim Amount  \n",
       "0             Agent   Two-Door Car      Medsize         384.811147  \n",
       "1             Agent  Four-Door Car      Medsize        1131.464935  \n",
       "2             Agent   Two-Door Car      Medsize         566.472247  \n",
       "3       Call Center            SUV      Medsize         529.881344  \n",
       "4             Agent  Four-Door Car      Medsize         138.130879  \n",
       "...             ...            ...          ...                ...  \n",
       "9129            Web  Four-Door Car      Medsize         198.234764  \n",
       "9130         Branch  Four-Door Car      Medsize         379.200000  \n",
       "9131         Branch  Four-Door Car      Medsize         790.784983  \n",
       "9132         Branch  Four-Door Car        Large         691.200000  \n",
       "9133    Call Center   Two-Door Car      Medsize         369.600000  \n",
       "\n",
       "[9134 rows x 24 columns]"
      ]
     },
     "execution_count": 14,
     "metadata": {},
     "output_type": "execute_result"
    }
   ],
   "source": [
    "df.drop_duplicates()"
   ]
  },
  {
   "cell_type": "markdown",
   "metadata": {},
   "source": [
    "=> The number of rows and columns remains the same. Thus, there weren´t any duplicates."
   ]
  },
  {
   "cell_type": "markdown",
   "metadata": {},
   "source": [
    "#### 6. Drop columns not needed\n",
    "\n",
    "As the customer identificator is unique to every customer, it won´t be useful in our analysis. Thus, we will drop the column \"Customer\""
   ]
  },
  {
   "cell_type": "code",
   "execution_count": 15,
   "metadata": {
    "scrolled": false
   },
   "outputs": [],
   "source": [
    "df=df.drop(columns=[\"Customer\"])"
   ]
  },
  {
   "cell_type": "code",
   "execution_count": 16,
   "metadata": {
    "scrolled": false
   },
   "outputs": [
    {
     "data": {
      "text/html": [
       "<div>\n",
       "<style scoped>\n",
       "    .dataframe tbody tr th:only-of-type {\n",
       "        vertical-align: middle;\n",
       "    }\n",
       "\n",
       "    .dataframe tbody tr th {\n",
       "        vertical-align: top;\n",
       "    }\n",
       "\n",
       "    .dataframe thead th {\n",
       "        text-align: right;\n",
       "    }\n",
       "</style>\n",
       "<table border=\"1\" class=\"dataframe\">\n",
       "  <thead>\n",
       "    <tr style=\"text-align: right;\">\n",
       "      <th></th>\n",
       "      <th>State</th>\n",
       "      <th>Customer Lifetime Value</th>\n",
       "      <th>Response</th>\n",
       "      <th>Coverage</th>\n",
       "      <th>Education</th>\n",
       "      <th>Effective To Date</th>\n",
       "      <th>Employment Status</th>\n",
       "      <th>Gender</th>\n",
       "      <th>Income</th>\n",
       "      <th>Location Code</th>\n",
       "      <th>...</th>\n",
       "      <th>Months Since Policy Inception</th>\n",
       "      <th>Number of Open Complaints</th>\n",
       "      <th>Number of Policies</th>\n",
       "      <th>Policy Type</th>\n",
       "      <th>Policy</th>\n",
       "      <th>Renew Offer Type</th>\n",
       "      <th>Sales Channel</th>\n",
       "      <th>Vehicle Class</th>\n",
       "      <th>Vehicle Size</th>\n",
       "      <th>Total Claim Amount</th>\n",
       "    </tr>\n",
       "  </thead>\n",
       "  <tbody>\n",
       "    <tr>\n",
       "      <th>0</th>\n",
       "      <td>Washington</td>\n",
       "      <td>2763.519279</td>\n",
       "      <td>No</td>\n",
       "      <td>Basic</td>\n",
       "      <td>Bachelor</td>\n",
       "      <td>2011-02-24</td>\n",
       "      <td>Employed</td>\n",
       "      <td>F</td>\n",
       "      <td>56274</td>\n",
       "      <td>Suburban</td>\n",
       "      <td>...</td>\n",
       "      <td>5</td>\n",
       "      <td>0</td>\n",
       "      <td>1</td>\n",
       "      <td>Corporate Auto</td>\n",
       "      <td>Corporate L3</td>\n",
       "      <td>Offer1</td>\n",
       "      <td>Agent</td>\n",
       "      <td>Two-Door Car</td>\n",
       "      <td>Medsize</td>\n",
       "      <td>384.811147</td>\n",
       "    </tr>\n",
       "    <tr>\n",
       "      <th>1</th>\n",
       "      <td>Arizona</td>\n",
       "      <td>6979.535903</td>\n",
       "      <td>No</td>\n",
       "      <td>Extended</td>\n",
       "      <td>Bachelor</td>\n",
       "      <td>2011-01-31</td>\n",
       "      <td>Unemployed</td>\n",
       "      <td>F</td>\n",
       "      <td>0</td>\n",
       "      <td>Suburban</td>\n",
       "      <td>...</td>\n",
       "      <td>42</td>\n",
       "      <td>0</td>\n",
       "      <td>8</td>\n",
       "      <td>Personal Auto</td>\n",
       "      <td>Personal L3</td>\n",
       "      <td>Offer3</td>\n",
       "      <td>Agent</td>\n",
       "      <td>Four-Door Car</td>\n",
       "      <td>Medsize</td>\n",
       "      <td>1131.464935</td>\n",
       "    </tr>\n",
       "    <tr>\n",
       "      <th>2</th>\n",
       "      <td>Nevada</td>\n",
       "      <td>12887.431650</td>\n",
       "      <td>No</td>\n",
       "      <td>Premium</td>\n",
       "      <td>Bachelor</td>\n",
       "      <td>2011-02-19</td>\n",
       "      <td>Employed</td>\n",
       "      <td>F</td>\n",
       "      <td>48767</td>\n",
       "      <td>Suburban</td>\n",
       "      <td>...</td>\n",
       "      <td>38</td>\n",
       "      <td>0</td>\n",
       "      <td>2</td>\n",
       "      <td>Personal Auto</td>\n",
       "      <td>Personal L3</td>\n",
       "      <td>Offer1</td>\n",
       "      <td>Agent</td>\n",
       "      <td>Two-Door Car</td>\n",
       "      <td>Medsize</td>\n",
       "      <td>566.472247</td>\n",
       "    </tr>\n",
       "    <tr>\n",
       "      <th>3</th>\n",
       "      <td>California</td>\n",
       "      <td>7645.861827</td>\n",
       "      <td>No</td>\n",
       "      <td>Basic</td>\n",
       "      <td>Bachelor</td>\n",
       "      <td>2011-01-20</td>\n",
       "      <td>Unemployed</td>\n",
       "      <td>M</td>\n",
       "      <td>0</td>\n",
       "      <td>Suburban</td>\n",
       "      <td>...</td>\n",
       "      <td>65</td>\n",
       "      <td>0</td>\n",
       "      <td>7</td>\n",
       "      <td>Corporate Auto</td>\n",
       "      <td>Corporate L2</td>\n",
       "      <td>Offer1</td>\n",
       "      <td>Call Center</td>\n",
       "      <td>SUV</td>\n",
       "      <td>Medsize</td>\n",
       "      <td>529.881344</td>\n",
       "    </tr>\n",
       "    <tr>\n",
       "      <th>4</th>\n",
       "      <td>Washington</td>\n",
       "      <td>2813.692575</td>\n",
       "      <td>No</td>\n",
       "      <td>Basic</td>\n",
       "      <td>Bachelor</td>\n",
       "      <td>2011-02-03</td>\n",
       "      <td>Employed</td>\n",
       "      <td>M</td>\n",
       "      <td>43836</td>\n",
       "      <td>Rural</td>\n",
       "      <td>...</td>\n",
       "      <td>44</td>\n",
       "      <td>0</td>\n",
       "      <td>1</td>\n",
       "      <td>Personal Auto</td>\n",
       "      <td>Personal L1</td>\n",
       "      <td>Offer1</td>\n",
       "      <td>Agent</td>\n",
       "      <td>Four-Door Car</td>\n",
       "      <td>Medsize</td>\n",
       "      <td>138.130879</td>\n",
       "    </tr>\n",
       "  </tbody>\n",
       "</table>\n",
       "<p>5 rows × 23 columns</p>\n",
       "</div>"
      ],
      "text/plain": [
       "        State  Customer Lifetime Value Response  Coverage Education  \\\n",
       "0  Washington              2763.519279       No     Basic  Bachelor   \n",
       "1     Arizona              6979.535903       No  Extended  Bachelor   \n",
       "2      Nevada             12887.431650       No   Premium  Bachelor   \n",
       "3  California              7645.861827       No     Basic  Bachelor   \n",
       "4  Washington              2813.692575       No     Basic  Bachelor   \n",
       "\n",
       "  Effective To Date Employment Status Gender  Income Location Code  ...  \\\n",
       "0        2011-02-24          Employed      F   56274      Suburban  ...   \n",
       "1        2011-01-31        Unemployed      F       0      Suburban  ...   \n",
       "2        2011-02-19          Employed      F   48767      Suburban  ...   \n",
       "3        2011-01-20        Unemployed      M       0      Suburban  ...   \n",
       "4        2011-02-03          Employed      M   43836         Rural  ...   \n",
       "\n",
       "  Months Since Policy Inception  Number of Open Complaints  \\\n",
       "0                             5                          0   \n",
       "1                            42                          0   \n",
       "2                            38                          0   \n",
       "3                            65                          0   \n",
       "4                            44                          0   \n",
       "\n",
       "   Number of Policies     Policy Type        Policy  Renew Offer Type  \\\n",
       "0                   1  Corporate Auto  Corporate L3            Offer1   \n",
       "1                   8   Personal Auto   Personal L3            Offer3   \n",
       "2                   2   Personal Auto   Personal L3            Offer1   \n",
       "3                   7  Corporate Auto  Corporate L2            Offer1   \n",
       "4                   1   Personal Auto   Personal L1            Offer1   \n",
       "\n",
       "  Sales Channel  Vehicle Class Vehicle Size Total Claim Amount  \n",
       "0         Agent   Two-Door Car      Medsize         384.811147  \n",
       "1         Agent  Four-Door Car      Medsize        1131.464935  \n",
       "2         Agent   Two-Door Car      Medsize         566.472247  \n",
       "3   Call Center            SUV      Medsize         529.881344  \n",
       "4         Agent  Four-Door Car      Medsize         138.130879  \n",
       "\n",
       "[5 rows x 23 columns]"
      ]
     },
     "execution_count": 16,
     "metadata": {},
     "output_type": "execute_result"
    }
   ],
   "source": [
    "df.head()"
   ]
  },
  {
   "cell_type": "markdown",
   "metadata": {},
   "source": [
    "#### 7. Changing the date format"
   ]
  },
  {
   "cell_type": "code",
   "execution_count": 17,
   "metadata": {
    "scrolled": false
   },
   "outputs": [
    {
     "data": {
      "text/html": [
       "<div>\n",
       "<style scoped>\n",
       "    .dataframe tbody tr th:only-of-type {\n",
       "        vertical-align: middle;\n",
       "    }\n",
       "\n",
       "    .dataframe tbody tr th {\n",
       "        vertical-align: top;\n",
       "    }\n",
       "\n",
       "    .dataframe thead th {\n",
       "        text-align: right;\n",
       "    }\n",
       "</style>\n",
       "<table border=\"1\" class=\"dataframe\">\n",
       "  <thead>\n",
       "    <tr style=\"text-align: right;\">\n",
       "      <th></th>\n",
       "      <th>State</th>\n",
       "      <th>Customer Lifetime Value</th>\n",
       "      <th>Response</th>\n",
       "      <th>Coverage</th>\n",
       "      <th>Education</th>\n",
       "      <th>Effective To Date</th>\n",
       "      <th>Employment Status</th>\n",
       "      <th>Gender</th>\n",
       "      <th>Income</th>\n",
       "      <th>Location Code</th>\n",
       "      <th>...</th>\n",
       "      <th>Months Since Policy Inception</th>\n",
       "      <th>Number of Open Complaints</th>\n",
       "      <th>Number of Policies</th>\n",
       "      <th>Policy Type</th>\n",
       "      <th>Policy</th>\n",
       "      <th>Renew Offer Type</th>\n",
       "      <th>Sales Channel</th>\n",
       "      <th>Vehicle Class</th>\n",
       "      <th>Vehicle Size</th>\n",
       "      <th>Total Claim Amount</th>\n",
       "    </tr>\n",
       "  </thead>\n",
       "  <tbody>\n",
       "    <tr>\n",
       "      <th>0</th>\n",
       "      <td>Washington</td>\n",
       "      <td>2763.519279</td>\n",
       "      <td>No</td>\n",
       "      <td>Basic</td>\n",
       "      <td>Bachelor</td>\n",
       "      <td>24/02/2011</td>\n",
       "      <td>Employed</td>\n",
       "      <td>F</td>\n",
       "      <td>56274</td>\n",
       "      <td>Suburban</td>\n",
       "      <td>...</td>\n",
       "      <td>5</td>\n",
       "      <td>0</td>\n",
       "      <td>1</td>\n",
       "      <td>Corporate Auto</td>\n",
       "      <td>Corporate L3</td>\n",
       "      <td>Offer1</td>\n",
       "      <td>Agent</td>\n",
       "      <td>Two-Door Car</td>\n",
       "      <td>Medsize</td>\n",
       "      <td>384.811147</td>\n",
       "    </tr>\n",
       "    <tr>\n",
       "      <th>1</th>\n",
       "      <td>Arizona</td>\n",
       "      <td>6979.535903</td>\n",
       "      <td>No</td>\n",
       "      <td>Extended</td>\n",
       "      <td>Bachelor</td>\n",
       "      <td>31/01/2011</td>\n",
       "      <td>Unemployed</td>\n",
       "      <td>F</td>\n",
       "      <td>0</td>\n",
       "      <td>Suburban</td>\n",
       "      <td>...</td>\n",
       "      <td>42</td>\n",
       "      <td>0</td>\n",
       "      <td>8</td>\n",
       "      <td>Personal Auto</td>\n",
       "      <td>Personal L3</td>\n",
       "      <td>Offer3</td>\n",
       "      <td>Agent</td>\n",
       "      <td>Four-Door Car</td>\n",
       "      <td>Medsize</td>\n",
       "      <td>1131.464935</td>\n",
       "    </tr>\n",
       "    <tr>\n",
       "      <th>2</th>\n",
       "      <td>Nevada</td>\n",
       "      <td>12887.431650</td>\n",
       "      <td>No</td>\n",
       "      <td>Premium</td>\n",
       "      <td>Bachelor</td>\n",
       "      <td>19/02/2011</td>\n",
       "      <td>Employed</td>\n",
       "      <td>F</td>\n",
       "      <td>48767</td>\n",
       "      <td>Suburban</td>\n",
       "      <td>...</td>\n",
       "      <td>38</td>\n",
       "      <td>0</td>\n",
       "      <td>2</td>\n",
       "      <td>Personal Auto</td>\n",
       "      <td>Personal L3</td>\n",
       "      <td>Offer1</td>\n",
       "      <td>Agent</td>\n",
       "      <td>Two-Door Car</td>\n",
       "      <td>Medsize</td>\n",
       "      <td>566.472247</td>\n",
       "    </tr>\n",
       "    <tr>\n",
       "      <th>3</th>\n",
       "      <td>California</td>\n",
       "      <td>7645.861827</td>\n",
       "      <td>No</td>\n",
       "      <td>Basic</td>\n",
       "      <td>Bachelor</td>\n",
       "      <td>20/01/2011</td>\n",
       "      <td>Unemployed</td>\n",
       "      <td>M</td>\n",
       "      <td>0</td>\n",
       "      <td>Suburban</td>\n",
       "      <td>...</td>\n",
       "      <td>65</td>\n",
       "      <td>0</td>\n",
       "      <td>7</td>\n",
       "      <td>Corporate Auto</td>\n",
       "      <td>Corporate L2</td>\n",
       "      <td>Offer1</td>\n",
       "      <td>Call Center</td>\n",
       "      <td>SUV</td>\n",
       "      <td>Medsize</td>\n",
       "      <td>529.881344</td>\n",
       "    </tr>\n",
       "    <tr>\n",
       "      <th>4</th>\n",
       "      <td>Washington</td>\n",
       "      <td>2813.692575</td>\n",
       "      <td>No</td>\n",
       "      <td>Basic</td>\n",
       "      <td>Bachelor</td>\n",
       "      <td>03/02/2011</td>\n",
       "      <td>Employed</td>\n",
       "      <td>M</td>\n",
       "      <td>43836</td>\n",
       "      <td>Rural</td>\n",
       "      <td>...</td>\n",
       "      <td>44</td>\n",
       "      <td>0</td>\n",
       "      <td>1</td>\n",
       "      <td>Personal Auto</td>\n",
       "      <td>Personal L1</td>\n",
       "      <td>Offer1</td>\n",
       "      <td>Agent</td>\n",
       "      <td>Four-Door Car</td>\n",
       "      <td>Medsize</td>\n",
       "      <td>138.130879</td>\n",
       "    </tr>\n",
       "  </tbody>\n",
       "</table>\n",
       "<p>5 rows × 23 columns</p>\n",
       "</div>"
      ],
      "text/plain": [
       "        State  Customer Lifetime Value Response  Coverage Education  \\\n",
       "0  Washington              2763.519279       No     Basic  Bachelor   \n",
       "1     Arizona              6979.535903       No  Extended  Bachelor   \n",
       "2      Nevada             12887.431650       No   Premium  Bachelor   \n",
       "3  California              7645.861827       No     Basic  Bachelor   \n",
       "4  Washington              2813.692575       No     Basic  Bachelor   \n",
       "\n",
       "  Effective To Date Employment Status Gender  Income Location Code  ...  \\\n",
       "0        24/02/2011          Employed      F   56274      Suburban  ...   \n",
       "1        31/01/2011        Unemployed      F       0      Suburban  ...   \n",
       "2        19/02/2011          Employed      F   48767      Suburban  ...   \n",
       "3        20/01/2011        Unemployed      M       0      Suburban  ...   \n",
       "4        03/02/2011          Employed      M   43836         Rural  ...   \n",
       "\n",
       "  Months Since Policy Inception  Number of Open Complaints  \\\n",
       "0                             5                          0   \n",
       "1                            42                          0   \n",
       "2                            38                          0   \n",
       "3                            65                          0   \n",
       "4                            44                          0   \n",
       "\n",
       "   Number of Policies     Policy Type        Policy  Renew Offer Type  \\\n",
       "0                   1  Corporate Auto  Corporate L3            Offer1   \n",
       "1                   8   Personal Auto   Personal L3            Offer3   \n",
       "2                   2   Personal Auto   Personal L3            Offer1   \n",
       "3                   7  Corporate Auto  Corporate L2            Offer1   \n",
       "4                   1   Personal Auto   Personal L1            Offer1   \n",
       "\n",
       "  Sales Channel  Vehicle Class Vehicle Size Total Claim Amount  \n",
       "0         Agent   Two-Door Car      Medsize         384.811147  \n",
       "1         Agent  Four-Door Car      Medsize        1131.464935  \n",
       "2         Agent   Two-Door Car      Medsize         566.472247  \n",
       "3   Call Center            SUV      Medsize         529.881344  \n",
       "4         Agent  Four-Door Car      Medsize         138.130879  \n",
       "\n",
       "[5 rows x 23 columns]"
      ]
     },
     "execution_count": 17,
     "metadata": {},
     "output_type": "execute_result"
    }
   ],
   "source": [
    "effective_dates=[i.strftime(format=\"%d/%m/%Y\") for i in df[\"Effective To Date\"]]\n",
    "df[\"Effective To Date\"]=effective_dates\n",
    "df.head()"
   ]
  },
  {
   "cell_type": "markdown",
   "metadata": {},
   "source": [
    "# Part 3: Data Processing"
   ]
  },
  {
   "cell_type": "markdown",
   "metadata": {},
   "source": [
    "## I. Preprocessing Numerical data"
   ]
  },
  {
   "cell_type": "code",
   "execution_count": 18,
   "metadata": {
    "scrolled": false
   },
   "outputs": [
    {
     "data": {
      "text/html": [
       "<div>\n",
       "<style scoped>\n",
       "    .dataframe tbody tr th:only-of-type {\n",
       "        vertical-align: middle;\n",
       "    }\n",
       "\n",
       "    .dataframe tbody tr th {\n",
       "        vertical-align: top;\n",
       "    }\n",
       "\n",
       "    .dataframe thead th {\n",
       "        text-align: right;\n",
       "    }\n",
       "</style>\n",
       "<table border=\"1\" class=\"dataframe\">\n",
       "  <thead>\n",
       "    <tr style=\"text-align: right;\">\n",
       "      <th></th>\n",
       "      <th>Customer Lifetime Value</th>\n",
       "      <th>Income</th>\n",
       "      <th>Monthly Premium Auto</th>\n",
       "      <th>Months Since Last Claim</th>\n",
       "      <th>Months Since Policy Inception</th>\n",
       "      <th>Number of Open Complaints</th>\n",
       "      <th>Number of Policies</th>\n",
       "      <th>Total Claim Amount</th>\n",
       "    </tr>\n",
       "  </thead>\n",
       "  <tbody>\n",
       "    <tr>\n",
       "      <th>0</th>\n",
       "      <td>2763.519279</td>\n",
       "      <td>56274</td>\n",
       "      <td>69</td>\n",
       "      <td>32</td>\n",
       "      <td>5</td>\n",
       "      <td>0</td>\n",
       "      <td>1</td>\n",
       "      <td>384.811147</td>\n",
       "    </tr>\n",
       "    <tr>\n",
       "      <th>1</th>\n",
       "      <td>6979.535903</td>\n",
       "      <td>0</td>\n",
       "      <td>94</td>\n",
       "      <td>13</td>\n",
       "      <td>42</td>\n",
       "      <td>0</td>\n",
       "      <td>8</td>\n",
       "      <td>1131.464935</td>\n",
       "    </tr>\n",
       "    <tr>\n",
       "      <th>2</th>\n",
       "      <td>12887.431650</td>\n",
       "      <td>48767</td>\n",
       "      <td>108</td>\n",
       "      <td>18</td>\n",
       "      <td>38</td>\n",
       "      <td>0</td>\n",
       "      <td>2</td>\n",
       "      <td>566.472247</td>\n",
       "    </tr>\n",
       "    <tr>\n",
       "      <th>3</th>\n",
       "      <td>7645.861827</td>\n",
       "      <td>0</td>\n",
       "      <td>106</td>\n",
       "      <td>18</td>\n",
       "      <td>65</td>\n",
       "      <td>0</td>\n",
       "      <td>7</td>\n",
       "      <td>529.881344</td>\n",
       "    </tr>\n",
       "    <tr>\n",
       "      <th>4</th>\n",
       "      <td>2813.692575</td>\n",
       "      <td>43836</td>\n",
       "      <td>73</td>\n",
       "      <td>12</td>\n",
       "      <td>44</td>\n",
       "      <td>0</td>\n",
       "      <td>1</td>\n",
       "      <td>138.130879</td>\n",
       "    </tr>\n",
       "  </tbody>\n",
       "</table>\n",
       "</div>"
      ],
      "text/plain": [
       "   Customer Lifetime Value  Income  Monthly Premium Auto  \\\n",
       "0              2763.519279   56274                    69   \n",
       "1              6979.535903       0                    94   \n",
       "2             12887.431650   48767                   108   \n",
       "3              7645.861827       0                   106   \n",
       "4              2813.692575   43836                    73   \n",
       "\n",
       "   Months Since Last Claim  Months Since Policy Inception  \\\n",
       "0                       32                              5   \n",
       "1                       13                             42   \n",
       "2                       18                             38   \n",
       "3                       18                             65   \n",
       "4                       12                             44   \n",
       "\n",
       "   Number of Open Complaints  Number of Policies  Total Claim Amount  \n",
       "0                          0                   1          384.811147  \n",
       "1                          0                   8         1131.464935  \n",
       "2                          0                   2          566.472247  \n",
       "3                          0                   7          529.881344  \n",
       "4                          0                   1          138.130879  "
      ]
     },
     "execution_count": 18,
     "metadata": {},
     "output_type": "execute_result"
    }
   ],
   "source": [
    "#Get the numerical data\n",
    "df_num=df.select_dtypes(\"number\")\n",
    "df_num.head()"
   ]
  },
  {
   "cell_type": "code",
   "execution_count": 19,
   "metadata": {
    "scrolled": false
   },
   "outputs": [
    {
     "data": {
      "text/plain": [
       "Index(['Customer Lifetime Value', 'Income', 'Monthly Premium Auto',\n",
       "       'Months Since Last Claim', 'Months Since Policy Inception',\n",
       "       'Number of Open Complaints', 'Number of Policies',\n",
       "       'Total Claim Amount'],\n",
       "      dtype='object')"
      ]
     },
     "execution_count": 19,
     "metadata": {},
     "output_type": "execute_result"
    }
   ],
   "source": [
    "df_num.columns"
   ]
  },
  {
   "cell_type": "markdown",
   "metadata": {},
   "source": [
    "#### 1. Santardising numerical data"
   ]
  },
  {
   "cell_type": "code",
   "execution_count": 20,
   "metadata": {
    "scrolled": false
   },
   "outputs": [
    {
     "data": {
      "text/plain": [
       "array([[-0.76287773,  0.61282744, -0.70392465, ..., -0.42224956,\n",
       "        -0.82264788, -0.16963969],\n",
       "       [-0.14924546, -1.23961684,  0.02269103, ..., -0.42224956,\n",
       "         2.10615996,  2.400737  ],\n",
       "       [ 0.71063622,  0.36570978,  0.42959581, ..., -0.42224956,\n",
       "        -0.40424676,  0.45573376],\n",
       "       ...,\n",
       "       [ 0.02313483, -1.23961684, -0.23889062, ...,  2.87324529,\n",
       "        -0.40424676,  1.22793667],\n",
       "       [-0.06993547, -0.51735647,  0.08082028, ..., -0.42224956,\n",
       "         0.01415436,  0.88511256],\n",
       "       [-0.78495478, -1.23961684, -0.47140763, ..., -0.42224956,\n",
       "        -0.82264788, -0.22200449]])"
      ]
     },
     "execution_count": 20,
     "metadata": {},
     "output_type": "execute_result"
    }
   ],
   "source": [
    "#Standardisation by column\n",
    "from sklearn.preprocessing import StandardScaler\n",
    "# ing standard scaler\n",
    "transformer = StandardScaler().fit(df_num)\n",
    "x_standardized = transformer.transform(df_num)\n",
    "x_standardized"
   ]
  },
  {
   "cell_type": "code",
   "execution_count": 21,
   "metadata": {
    "scrolled": false
   },
   "outputs": [
    {
     "data": {
      "text/html": [
       "<div>\n",
       "<style scoped>\n",
       "    .dataframe tbody tr th:only-of-type {\n",
       "        vertical-align: middle;\n",
       "    }\n",
       "\n",
       "    .dataframe tbody tr th {\n",
       "        vertical-align: top;\n",
       "    }\n",
       "\n",
       "    .dataframe thead th {\n",
       "        text-align: right;\n",
       "    }\n",
       "</style>\n",
       "<table border=\"1\" class=\"dataframe\">\n",
       "  <thead>\n",
       "    <tr style=\"text-align: right;\">\n",
       "      <th></th>\n",
       "      <th>0</th>\n",
       "      <th>1</th>\n",
       "      <th>2</th>\n",
       "      <th>3</th>\n",
       "      <th>4</th>\n",
       "      <th>5</th>\n",
       "      <th>6</th>\n",
       "      <th>7</th>\n",
       "    </tr>\n",
       "  </thead>\n",
       "  <tbody>\n",
       "    <tr>\n",
       "      <th>0</th>\n",
       "      <td>-0.762878</td>\n",
       "      <td>0.612827</td>\n",
       "      <td>-0.703925</td>\n",
       "      <td>1.678099</td>\n",
       "      <td>-1.543287</td>\n",
       "      <td>-0.42225</td>\n",
       "      <td>-0.822648</td>\n",
       "      <td>-0.169640</td>\n",
       "    </tr>\n",
       "    <tr>\n",
       "      <th>1</th>\n",
       "      <td>-0.149245</td>\n",
       "      <td>-1.239617</td>\n",
       "      <td>0.022691</td>\n",
       "      <td>-0.208186</td>\n",
       "      <td>-0.217334</td>\n",
       "      <td>-0.42225</td>\n",
       "      <td>2.106160</td>\n",
       "      <td>2.400737</td>\n",
       "    </tr>\n",
       "    <tr>\n",
       "      <th>2</th>\n",
       "      <td>0.710636</td>\n",
       "      <td>0.365710</td>\n",
       "      <td>0.429596</td>\n",
       "      <td>0.288205</td>\n",
       "      <td>-0.360680</td>\n",
       "      <td>-0.42225</td>\n",
       "      <td>-0.404247</td>\n",
       "      <td>0.455734</td>\n",
       "    </tr>\n",
       "    <tr>\n",
       "      <th>3</th>\n",
       "      <td>-0.052263</td>\n",
       "      <td>-1.239617</td>\n",
       "      <td>0.371467</td>\n",
       "      <td>0.288205</td>\n",
       "      <td>0.606907</td>\n",
       "      <td>-0.42225</td>\n",
       "      <td>1.687759</td>\n",
       "      <td>0.329769</td>\n",
       "    </tr>\n",
       "    <tr>\n",
       "      <th>4</th>\n",
       "      <td>-0.755575</td>\n",
       "      <td>0.203390</td>\n",
       "      <td>-0.587666</td>\n",
       "      <td>-0.307465</td>\n",
       "      <td>-0.145661</td>\n",
       "      <td>-0.42225</td>\n",
       "      <td>-0.822648</td>\n",
       "      <td>-1.018843</td>\n",
       "    </tr>\n",
       "  </tbody>\n",
       "</table>\n",
       "</div>"
      ],
      "text/plain": [
       "          0         1         2         3         4        5         6  \\\n",
       "0 -0.762878  0.612827 -0.703925  1.678099 -1.543287 -0.42225 -0.822648   \n",
       "1 -0.149245 -1.239617  0.022691 -0.208186 -0.217334 -0.42225  2.106160   \n",
       "2  0.710636  0.365710  0.429596  0.288205 -0.360680 -0.42225 -0.404247   \n",
       "3 -0.052263 -1.239617  0.371467  0.288205  0.606907 -0.42225  1.687759   \n",
       "4 -0.755575  0.203390 -0.587666 -0.307465 -0.145661 -0.42225 -0.822648   \n",
       "\n",
       "          7  \n",
       "0 -0.169640  \n",
       "1  2.400737  \n",
       "2  0.455734  \n",
       "3  0.329769  \n",
       "4 -1.018843  "
      ]
     },
     "execution_count": 21,
     "metadata": {},
     "output_type": "execute_result"
    }
   ],
   "source": [
    "df_num_standardised=pd.DataFrame(x_standardized)\n",
    "df_num_standardised.head()"
   ]
  },
  {
   "cell_type": "code",
   "execution_count": 22,
   "metadata": {
    "scrolled": false
   },
   "outputs": [
    {
     "data": {
      "text/html": [
       "<div>\n",
       "<style scoped>\n",
       "    .dataframe tbody tr th:only-of-type {\n",
       "        vertical-align: middle;\n",
       "    }\n",
       "\n",
       "    .dataframe tbody tr th {\n",
       "        vertical-align: top;\n",
       "    }\n",
       "\n",
       "    .dataframe thead th {\n",
       "        text-align: right;\n",
       "    }\n",
       "</style>\n",
       "<table border=\"1\" class=\"dataframe\">\n",
       "  <thead>\n",
       "    <tr style=\"text-align: right;\">\n",
       "      <th></th>\n",
       "      <th>Customer Lifetime Value</th>\n",
       "      <th>Income</th>\n",
       "      <th>Monthly Premium Auto</th>\n",
       "      <th>Months Since Last Claim</th>\n",
       "      <th>Months Since Policy Inception</th>\n",
       "      <th>Number of Open Complaints</th>\n",
       "      <th>Number of Policies</th>\n",
       "      <th>Total Claim Amount</th>\n",
       "    </tr>\n",
       "  </thead>\n",
       "  <tbody>\n",
       "    <tr>\n",
       "      <th>0</th>\n",
       "      <td>-0.762878</td>\n",
       "      <td>0.612827</td>\n",
       "      <td>-0.703925</td>\n",
       "      <td>1.678099</td>\n",
       "      <td>-1.543287</td>\n",
       "      <td>-0.42225</td>\n",
       "      <td>-0.822648</td>\n",
       "      <td>-0.169640</td>\n",
       "    </tr>\n",
       "    <tr>\n",
       "      <th>1</th>\n",
       "      <td>-0.149245</td>\n",
       "      <td>-1.239617</td>\n",
       "      <td>0.022691</td>\n",
       "      <td>-0.208186</td>\n",
       "      <td>-0.217334</td>\n",
       "      <td>-0.42225</td>\n",
       "      <td>2.106160</td>\n",
       "      <td>2.400737</td>\n",
       "    </tr>\n",
       "    <tr>\n",
       "      <th>2</th>\n",
       "      <td>0.710636</td>\n",
       "      <td>0.365710</td>\n",
       "      <td>0.429596</td>\n",
       "      <td>0.288205</td>\n",
       "      <td>-0.360680</td>\n",
       "      <td>-0.42225</td>\n",
       "      <td>-0.404247</td>\n",
       "      <td>0.455734</td>\n",
       "    </tr>\n",
       "    <tr>\n",
       "      <th>3</th>\n",
       "      <td>-0.052263</td>\n",
       "      <td>-1.239617</td>\n",
       "      <td>0.371467</td>\n",
       "      <td>0.288205</td>\n",
       "      <td>0.606907</td>\n",
       "      <td>-0.42225</td>\n",
       "      <td>1.687759</td>\n",
       "      <td>0.329769</td>\n",
       "    </tr>\n",
       "    <tr>\n",
       "      <th>4</th>\n",
       "      <td>-0.755575</td>\n",
       "      <td>0.203390</td>\n",
       "      <td>-0.587666</td>\n",
       "      <td>-0.307465</td>\n",
       "      <td>-0.145661</td>\n",
       "      <td>-0.42225</td>\n",
       "      <td>-0.822648</td>\n",
       "      <td>-1.018843</td>\n",
       "    </tr>\n",
       "  </tbody>\n",
       "</table>\n",
       "</div>"
      ],
      "text/plain": [
       "   Customer Lifetime Value    Income  Monthly Premium Auto  \\\n",
       "0                -0.762878  0.612827             -0.703925   \n",
       "1                -0.149245 -1.239617              0.022691   \n",
       "2                 0.710636  0.365710              0.429596   \n",
       "3                -0.052263 -1.239617              0.371467   \n",
       "4                -0.755575  0.203390             -0.587666   \n",
       "\n",
       "   Months Since Last Claim  Months Since Policy Inception  \\\n",
       "0                 1.678099                      -1.543287   \n",
       "1                -0.208186                      -0.217334   \n",
       "2                 0.288205                      -0.360680   \n",
       "3                 0.288205                       0.606907   \n",
       "4                -0.307465                      -0.145661   \n",
       "\n",
       "   Number of Open Complaints  Number of Policies  Total Claim Amount  \n",
       "0                   -0.42225           -0.822648           -0.169640  \n",
       "1                   -0.42225            2.106160            2.400737  \n",
       "2                   -0.42225           -0.404247            0.455734  \n",
       "3                   -0.42225            1.687759            0.329769  \n",
       "4                   -0.42225           -0.822648           -1.018843  "
      ]
     },
     "execution_count": 22,
     "metadata": {},
     "output_type": "execute_result"
    }
   ],
   "source": [
    "df_num_standardised.columns=['Customer Lifetime Value', 'Income', 'Monthly Premium Auto',\n",
    "       'Months Since Last Claim', 'Months Since Policy Inception',\n",
    "       'Number of Open Complaints', 'Number of Policies',\n",
    "       'Total Claim Amount']\n",
    "df_num_standardised.head()"
   ]
  },
  {
   "cell_type": "markdown",
   "metadata": {},
   "source": [
    "#### 2. Normalising numerical data"
   ]
  },
  {
   "cell_type": "code",
   "execution_count": 23,
   "metadata": {
    "scrolled": false
   },
   "outputs": [
    {
     "data": {
      "text/plain": [
       "array([[-0.27792278,  0.2232582 , -0.25644568, ..., -0.15382907,\n",
       "        -0.29969755, -0.06180117],\n",
       "       [-0.04303371, -0.35743341,  0.00654277, ..., -0.12175222,\n",
       "         0.60729405,  0.69223293],\n",
       "       [ 0.56430709,  0.29040543,  0.34113651, ..., -0.33530295,\n",
       "        -0.32100715,  0.36189232],\n",
       "       ...,\n",
       "       [ 0.00666606, -0.35718268, -0.06883384, ...,  0.8278957 ,\n",
       "        -0.11647949,  0.35381716],\n",
       "       [-0.02575943, -0.19055865,  0.02976865, ..., -0.15552778,\n",
       "         0.0052135 ,  0.32601478],\n",
       "       [-0.29710648, -0.4691967 , -0.17842845, ..., -0.15982205,\n",
       "        -0.31137337, -0.08402901]])"
      ]
     },
     "execution_count": 23,
     "metadata": {},
     "output_type": "execute_result"
    }
   ],
   "source": [
    "from sklearn.preprocessing import Normalizer\n",
    "\n",
    "scaler=Normalizer().fit(df_num_standardised)\n",
    "x_normalised=scaler.transform(df_num_standardised)\n",
    "x_normalised"
   ]
  },
  {
   "cell_type": "code",
   "execution_count": 24,
   "metadata": {
    "scrolled": false
   },
   "outputs": [
    {
     "data": {
      "text/html": [
       "<div>\n",
       "<style scoped>\n",
       "    .dataframe tbody tr th:only-of-type {\n",
       "        vertical-align: middle;\n",
       "    }\n",
       "\n",
       "    .dataframe tbody tr th {\n",
       "        vertical-align: top;\n",
       "    }\n",
       "\n",
       "    .dataframe thead th {\n",
       "        text-align: right;\n",
       "    }\n",
       "</style>\n",
       "<table border=\"1\" class=\"dataframe\">\n",
       "  <thead>\n",
       "    <tr style=\"text-align: right;\">\n",
       "      <th></th>\n",
       "      <th>0</th>\n",
       "      <th>1</th>\n",
       "      <th>2</th>\n",
       "      <th>3</th>\n",
       "      <th>4</th>\n",
       "      <th>5</th>\n",
       "      <th>6</th>\n",
       "      <th>7</th>\n",
       "    </tr>\n",
       "  </thead>\n",
       "  <tbody>\n",
       "    <tr>\n",
       "      <th>0</th>\n",
       "      <td>-0.277923</td>\n",
       "      <td>0.223258</td>\n",
       "      <td>-0.256446</td>\n",
       "      <td>0.611346</td>\n",
       "      <td>-0.562232</td>\n",
       "      <td>-0.153829</td>\n",
       "      <td>-0.299698</td>\n",
       "      <td>-0.061801</td>\n",
       "    </tr>\n",
       "    <tr>\n",
       "      <th>1</th>\n",
       "      <td>-0.043034</td>\n",
       "      <td>-0.357433</td>\n",
       "      <td>0.006543</td>\n",
       "      <td>-0.060029</td>\n",
       "      <td>-0.062667</td>\n",
       "      <td>-0.121752</td>\n",
       "      <td>0.607294</td>\n",
       "      <td>0.692233</td>\n",
       "    </tr>\n",
       "    <tr>\n",
       "      <th>2</th>\n",
       "      <td>0.564307</td>\n",
       "      <td>0.290405</td>\n",
       "      <td>0.341137</td>\n",
       "      <td>0.228860</td>\n",
       "      <td>-0.286412</td>\n",
       "      <td>-0.335303</td>\n",
       "      <td>-0.321007</td>\n",
       "      <td>0.361892</td>\n",
       "    </tr>\n",
       "    <tr>\n",
       "      <th>3</th>\n",
       "      <td>-0.022778</td>\n",
       "      <td>-0.540276</td>\n",
       "      <td>0.161900</td>\n",
       "      <td>0.125611</td>\n",
       "      <td>0.264515</td>\n",
       "      <td>-0.184034</td>\n",
       "      <td>0.735595</td>\n",
       "      <td>0.143727</td>\n",
       "    </tr>\n",
       "    <tr>\n",
       "      <th>4</th>\n",
       "      <td>-0.438691</td>\n",
       "      <td>0.118089</td>\n",
       "      <td>-0.341202</td>\n",
       "      <td>-0.178516</td>\n",
       "      <td>-0.084572</td>\n",
       "      <td>-0.245161</td>\n",
       "      <td>-0.477634</td>\n",
       "      <td>-0.591547</td>\n",
       "    </tr>\n",
       "  </tbody>\n",
       "</table>\n",
       "</div>"
      ],
      "text/plain": [
       "          0         1         2         3         4         5         6  \\\n",
       "0 -0.277923  0.223258 -0.256446  0.611346 -0.562232 -0.153829 -0.299698   \n",
       "1 -0.043034 -0.357433  0.006543 -0.060029 -0.062667 -0.121752  0.607294   \n",
       "2  0.564307  0.290405  0.341137  0.228860 -0.286412 -0.335303 -0.321007   \n",
       "3 -0.022778 -0.540276  0.161900  0.125611  0.264515 -0.184034  0.735595   \n",
       "4 -0.438691  0.118089 -0.341202 -0.178516 -0.084572 -0.245161 -0.477634   \n",
       "\n",
       "          7  \n",
       "0 -0.061801  \n",
       "1  0.692233  \n",
       "2  0.361892  \n",
       "3  0.143727  \n",
       "4 -0.591547  "
      ]
     },
     "execution_count": 24,
     "metadata": {},
     "output_type": "execute_result"
    }
   ],
   "source": [
    "df_num_normalised=pd.DataFrame(x_normalised)\n",
    "df_num_normalised.head()"
   ]
  },
  {
   "cell_type": "code",
   "execution_count": 25,
   "metadata": {
    "scrolled": false
   },
   "outputs": [
    {
     "data": {
      "text/html": [
       "<div>\n",
       "<style scoped>\n",
       "    .dataframe tbody tr th:only-of-type {\n",
       "        vertical-align: middle;\n",
       "    }\n",
       "\n",
       "    .dataframe tbody tr th {\n",
       "        vertical-align: top;\n",
       "    }\n",
       "\n",
       "    .dataframe thead th {\n",
       "        text-align: right;\n",
       "    }\n",
       "</style>\n",
       "<table border=\"1\" class=\"dataframe\">\n",
       "  <thead>\n",
       "    <tr style=\"text-align: right;\">\n",
       "      <th></th>\n",
       "      <th>Customer Lifetime Value</th>\n",
       "      <th>Income</th>\n",
       "      <th>Monthly Premium Auto</th>\n",
       "      <th>Months Since Last Claim</th>\n",
       "      <th>Months Since Policy Inception</th>\n",
       "      <th>Number of Open Complaints</th>\n",
       "      <th>Number of Policies</th>\n",
       "      <th>Total Claim Amount</th>\n",
       "    </tr>\n",
       "  </thead>\n",
       "  <tbody>\n",
       "    <tr>\n",
       "      <th>0</th>\n",
       "      <td>-0.277923</td>\n",
       "      <td>0.223258</td>\n",
       "      <td>-0.256446</td>\n",
       "      <td>0.611346</td>\n",
       "      <td>-0.562232</td>\n",
       "      <td>-0.153829</td>\n",
       "      <td>-0.299698</td>\n",
       "      <td>-0.061801</td>\n",
       "    </tr>\n",
       "    <tr>\n",
       "      <th>1</th>\n",
       "      <td>-0.043034</td>\n",
       "      <td>-0.357433</td>\n",
       "      <td>0.006543</td>\n",
       "      <td>-0.060029</td>\n",
       "      <td>-0.062667</td>\n",
       "      <td>-0.121752</td>\n",
       "      <td>0.607294</td>\n",
       "      <td>0.692233</td>\n",
       "    </tr>\n",
       "    <tr>\n",
       "      <th>2</th>\n",
       "      <td>0.564307</td>\n",
       "      <td>0.290405</td>\n",
       "      <td>0.341137</td>\n",
       "      <td>0.228860</td>\n",
       "      <td>-0.286412</td>\n",
       "      <td>-0.335303</td>\n",
       "      <td>-0.321007</td>\n",
       "      <td>0.361892</td>\n",
       "    </tr>\n",
       "    <tr>\n",
       "      <th>3</th>\n",
       "      <td>-0.022778</td>\n",
       "      <td>-0.540276</td>\n",
       "      <td>0.161900</td>\n",
       "      <td>0.125611</td>\n",
       "      <td>0.264515</td>\n",
       "      <td>-0.184034</td>\n",
       "      <td>0.735595</td>\n",
       "      <td>0.143727</td>\n",
       "    </tr>\n",
       "    <tr>\n",
       "      <th>4</th>\n",
       "      <td>-0.438691</td>\n",
       "      <td>0.118089</td>\n",
       "      <td>-0.341202</td>\n",
       "      <td>-0.178516</td>\n",
       "      <td>-0.084572</td>\n",
       "      <td>-0.245161</td>\n",
       "      <td>-0.477634</td>\n",
       "      <td>-0.591547</td>\n",
       "    </tr>\n",
       "  </tbody>\n",
       "</table>\n",
       "</div>"
      ],
      "text/plain": [
       "   Customer Lifetime Value    Income  Monthly Premium Auto  \\\n",
       "0                -0.277923  0.223258             -0.256446   \n",
       "1                -0.043034 -0.357433              0.006543   \n",
       "2                 0.564307  0.290405              0.341137   \n",
       "3                -0.022778 -0.540276              0.161900   \n",
       "4                -0.438691  0.118089             -0.341202   \n",
       "\n",
       "   Months Since Last Claim  Months Since Policy Inception  \\\n",
       "0                 0.611346                      -0.562232   \n",
       "1                -0.060029                      -0.062667   \n",
       "2                 0.228860                      -0.286412   \n",
       "3                 0.125611                       0.264515   \n",
       "4                -0.178516                      -0.084572   \n",
       "\n",
       "   Number of Open Complaints  Number of Policies  Total Claim Amount  \n",
       "0                  -0.153829           -0.299698           -0.061801  \n",
       "1                  -0.121752            0.607294            0.692233  \n",
       "2                  -0.335303           -0.321007            0.361892  \n",
       "3                  -0.184034            0.735595            0.143727  \n",
       "4                  -0.245161           -0.477634           -0.591547  "
      ]
     },
     "execution_count": 25,
     "metadata": {},
     "output_type": "execute_result"
    }
   ],
   "source": [
    "df_num_normalised.columns=['Customer Lifetime Value', 'Income', 'Monthly Premium Auto',\n",
    "       'Months Since Last Claim', 'Months Since Policy Inception',\n",
    "       'Number of Open Complaints', 'Number of Policies',\n",
    "       'Total Claim Amount']\n",
    "df_num_normalised.head()"
   ]
  },
  {
   "cell_type": "markdown",
   "metadata": {},
   "source": [
    "## II. Preprocessing Categorical Data"
   ]
  },
  {
   "cell_type": "code",
   "execution_count": 26,
   "metadata": {
    "scrolled": false
   },
   "outputs": [
    {
     "data": {
      "text/html": [
       "<div>\n",
       "<style scoped>\n",
       "    .dataframe tbody tr th:only-of-type {\n",
       "        vertical-align: middle;\n",
       "    }\n",
       "\n",
       "    .dataframe tbody tr th {\n",
       "        vertical-align: top;\n",
       "    }\n",
       "\n",
       "    .dataframe thead th {\n",
       "        text-align: right;\n",
       "    }\n",
       "</style>\n",
       "<table border=\"1\" class=\"dataframe\">\n",
       "  <thead>\n",
       "    <tr style=\"text-align: right;\">\n",
       "      <th></th>\n",
       "      <th>State</th>\n",
       "      <th>Response</th>\n",
       "      <th>Coverage</th>\n",
       "      <th>Education</th>\n",
       "      <th>Effective To Date</th>\n",
       "      <th>Employment Status</th>\n",
       "      <th>Gender</th>\n",
       "      <th>Location Code</th>\n",
       "      <th>Marital Status</th>\n",
       "      <th>Policy Type</th>\n",
       "      <th>Policy</th>\n",
       "      <th>Renew Offer Type</th>\n",
       "      <th>Sales Channel</th>\n",
       "      <th>Vehicle Class</th>\n",
       "      <th>Vehicle Size</th>\n",
       "    </tr>\n",
       "  </thead>\n",
       "  <tbody>\n",
       "    <tr>\n",
       "      <th>0</th>\n",
       "      <td>Washington</td>\n",
       "      <td>No</td>\n",
       "      <td>Basic</td>\n",
       "      <td>Bachelor</td>\n",
       "      <td>24/02/2011</td>\n",
       "      <td>Employed</td>\n",
       "      <td>F</td>\n",
       "      <td>Suburban</td>\n",
       "      <td>Married</td>\n",
       "      <td>Corporate Auto</td>\n",
       "      <td>Corporate L3</td>\n",
       "      <td>Offer1</td>\n",
       "      <td>Agent</td>\n",
       "      <td>Two-Door Car</td>\n",
       "      <td>Medsize</td>\n",
       "    </tr>\n",
       "    <tr>\n",
       "      <th>1</th>\n",
       "      <td>Arizona</td>\n",
       "      <td>No</td>\n",
       "      <td>Extended</td>\n",
       "      <td>Bachelor</td>\n",
       "      <td>31/01/2011</td>\n",
       "      <td>Unemployed</td>\n",
       "      <td>F</td>\n",
       "      <td>Suburban</td>\n",
       "      <td>Single</td>\n",
       "      <td>Personal Auto</td>\n",
       "      <td>Personal L3</td>\n",
       "      <td>Offer3</td>\n",
       "      <td>Agent</td>\n",
       "      <td>Four-Door Car</td>\n",
       "      <td>Medsize</td>\n",
       "    </tr>\n",
       "    <tr>\n",
       "      <th>2</th>\n",
       "      <td>Nevada</td>\n",
       "      <td>No</td>\n",
       "      <td>Premium</td>\n",
       "      <td>Bachelor</td>\n",
       "      <td>19/02/2011</td>\n",
       "      <td>Employed</td>\n",
       "      <td>F</td>\n",
       "      <td>Suburban</td>\n",
       "      <td>Married</td>\n",
       "      <td>Personal Auto</td>\n",
       "      <td>Personal L3</td>\n",
       "      <td>Offer1</td>\n",
       "      <td>Agent</td>\n",
       "      <td>Two-Door Car</td>\n",
       "      <td>Medsize</td>\n",
       "    </tr>\n",
       "    <tr>\n",
       "      <th>3</th>\n",
       "      <td>California</td>\n",
       "      <td>No</td>\n",
       "      <td>Basic</td>\n",
       "      <td>Bachelor</td>\n",
       "      <td>20/01/2011</td>\n",
       "      <td>Unemployed</td>\n",
       "      <td>M</td>\n",
       "      <td>Suburban</td>\n",
       "      <td>Married</td>\n",
       "      <td>Corporate Auto</td>\n",
       "      <td>Corporate L2</td>\n",
       "      <td>Offer1</td>\n",
       "      <td>Call Center</td>\n",
       "      <td>SUV</td>\n",
       "      <td>Medsize</td>\n",
       "    </tr>\n",
       "    <tr>\n",
       "      <th>4</th>\n",
       "      <td>Washington</td>\n",
       "      <td>No</td>\n",
       "      <td>Basic</td>\n",
       "      <td>Bachelor</td>\n",
       "      <td>03/02/2011</td>\n",
       "      <td>Employed</td>\n",
       "      <td>M</td>\n",
       "      <td>Rural</td>\n",
       "      <td>Single</td>\n",
       "      <td>Personal Auto</td>\n",
       "      <td>Personal L1</td>\n",
       "      <td>Offer1</td>\n",
       "      <td>Agent</td>\n",
       "      <td>Four-Door Car</td>\n",
       "      <td>Medsize</td>\n",
       "    </tr>\n",
       "  </tbody>\n",
       "</table>\n",
       "</div>"
      ],
      "text/plain": [
       "        State Response  Coverage Education Effective To Date  \\\n",
       "0  Washington       No     Basic  Bachelor        24/02/2011   \n",
       "1     Arizona       No  Extended  Bachelor        31/01/2011   \n",
       "2      Nevada       No   Premium  Bachelor        19/02/2011   \n",
       "3  California       No     Basic  Bachelor        20/01/2011   \n",
       "4  Washington       No     Basic  Bachelor        03/02/2011   \n",
       "\n",
       "  Employment Status Gender Location Code Marital Status     Policy Type  \\\n",
       "0          Employed      F      Suburban        Married  Corporate Auto   \n",
       "1        Unemployed      F      Suburban         Single   Personal Auto   \n",
       "2          Employed      F      Suburban        Married   Personal Auto   \n",
       "3        Unemployed      M      Suburban        Married  Corporate Auto   \n",
       "4          Employed      M         Rural         Single   Personal Auto   \n",
       "\n",
       "         Policy Renew Offer Type Sales Channel  Vehicle Class Vehicle Size  \n",
       "0  Corporate L3           Offer1         Agent   Two-Door Car      Medsize  \n",
       "1   Personal L3           Offer3         Agent  Four-Door Car      Medsize  \n",
       "2   Personal L3           Offer1         Agent   Two-Door Car      Medsize  \n",
       "3  Corporate L2           Offer1   Call Center            SUV      Medsize  \n",
       "4   Personal L1           Offer1         Agent  Four-Door Car      Medsize  "
      ]
     },
     "execution_count": 26,
     "metadata": {},
     "output_type": "execute_result"
    }
   ],
   "source": [
    "#Get the categorical data\n",
    "df_cat=df.select_dtypes(\"object\")\n",
    "df_cat.head()"
   ]
  },
  {
   "cell_type": "code",
   "execution_count": 27,
   "metadata": {
    "scrolled": false
   },
   "outputs": [
    {
     "data": {
      "text/plain": [
       "Index(['State', 'Response', 'Coverage', 'Education', 'Effective To Date',\n",
       "       'Employment Status', 'Gender', 'Location Code', 'Marital Status',\n",
       "       'Policy Type', 'Policy', 'Renew Offer Type', 'Sales Channel',\n",
       "       'Vehicle Class', 'Vehicle Size'],\n",
       "      dtype='object')"
      ]
     },
     "execution_count": 27,
     "metadata": {},
     "output_type": "execute_result"
    }
   ],
   "source": [
    "df_cat.columns"
   ]
  },
  {
   "cell_type": "markdown",
   "metadata": {},
   "source": [
    "#### 3. Encoding categorical data"
   ]
  },
  {
   "cell_type": "code",
   "execution_count": 28,
   "metadata": {
    "scrolled": false
   },
   "outputs": [],
   "source": [
    "#OneHotEncoder Method\n",
    "from sklearn.preprocessing import OneHotEncoder\n",
    "\n",
    "encoder = OneHotEncoder(drop='first').fit(df_cat)\n",
    "encoded = encoder.transform(df_cat).toarray()\n",
    "encoded_names = list(encoder.get_feature_names())\n",
    "\n",
    "df_cat_encoded = pd.DataFrame(encoded,columns=encoded_names)"
   ]
  },
  {
   "cell_type": "code",
   "execution_count": 29,
   "metadata": {
    "scrolled": false
   },
   "outputs": [
    {
     "data": {
      "text/html": [
       "<div>\n",
       "<style scoped>\n",
       "    .dataframe tbody tr th:only-of-type {\n",
       "        vertical-align: middle;\n",
       "    }\n",
       "\n",
       "    .dataframe tbody tr th {\n",
       "        vertical-align: top;\n",
       "    }\n",
       "\n",
       "    .dataframe thead th {\n",
       "        text-align: right;\n",
       "    }\n",
       "</style>\n",
       "<table border=\"1\" class=\"dataframe\">\n",
       "  <thead>\n",
       "    <tr style=\"text-align: right;\">\n",
       "      <th></th>\n",
       "      <th>x0_California</th>\n",
       "      <th>x0_Nevada</th>\n",
       "      <th>x0_Oregon</th>\n",
       "      <th>x0_Washington</th>\n",
       "      <th>x1_Yes</th>\n",
       "      <th>x2_Extended</th>\n",
       "      <th>x2_Premium</th>\n",
       "      <th>x3_College</th>\n",
       "      <th>x3_Doctor</th>\n",
       "      <th>x3_High School or Below</th>\n",
       "      <th>...</th>\n",
       "      <th>x12_Branch</th>\n",
       "      <th>x12_Call Center</th>\n",
       "      <th>x12_Web</th>\n",
       "      <th>x13_Luxury Car</th>\n",
       "      <th>x13_Luxury SUV</th>\n",
       "      <th>x13_SUV</th>\n",
       "      <th>x13_Sports Car</th>\n",
       "      <th>x13_Two-Door Car</th>\n",
       "      <th>x14_Medsize</th>\n",
       "      <th>x14_Small</th>\n",
       "    </tr>\n",
       "  </thead>\n",
       "  <tbody>\n",
       "    <tr>\n",
       "      <th>0</th>\n",
       "      <td>0.0</td>\n",
       "      <td>0.0</td>\n",
       "      <td>0.0</td>\n",
       "      <td>1.0</td>\n",
       "      <td>0.0</td>\n",
       "      <td>0.0</td>\n",
       "      <td>0.0</td>\n",
       "      <td>0.0</td>\n",
       "      <td>0.0</td>\n",
       "      <td>0.0</td>\n",
       "      <td>...</td>\n",
       "      <td>0.0</td>\n",
       "      <td>0.0</td>\n",
       "      <td>0.0</td>\n",
       "      <td>0.0</td>\n",
       "      <td>0.0</td>\n",
       "      <td>0.0</td>\n",
       "      <td>0.0</td>\n",
       "      <td>1.0</td>\n",
       "      <td>1.0</td>\n",
       "      <td>0.0</td>\n",
       "    </tr>\n",
       "    <tr>\n",
       "      <th>1</th>\n",
       "      <td>0.0</td>\n",
       "      <td>0.0</td>\n",
       "      <td>0.0</td>\n",
       "      <td>0.0</td>\n",
       "      <td>0.0</td>\n",
       "      <td>1.0</td>\n",
       "      <td>0.0</td>\n",
       "      <td>0.0</td>\n",
       "      <td>0.0</td>\n",
       "      <td>0.0</td>\n",
       "      <td>...</td>\n",
       "      <td>0.0</td>\n",
       "      <td>0.0</td>\n",
       "      <td>0.0</td>\n",
       "      <td>0.0</td>\n",
       "      <td>0.0</td>\n",
       "      <td>0.0</td>\n",
       "      <td>0.0</td>\n",
       "      <td>0.0</td>\n",
       "      <td>1.0</td>\n",
       "      <td>0.0</td>\n",
       "    </tr>\n",
       "    <tr>\n",
       "      <th>2</th>\n",
       "      <td>0.0</td>\n",
       "      <td>1.0</td>\n",
       "      <td>0.0</td>\n",
       "      <td>0.0</td>\n",
       "      <td>0.0</td>\n",
       "      <td>0.0</td>\n",
       "      <td>1.0</td>\n",
       "      <td>0.0</td>\n",
       "      <td>0.0</td>\n",
       "      <td>0.0</td>\n",
       "      <td>...</td>\n",
       "      <td>0.0</td>\n",
       "      <td>0.0</td>\n",
       "      <td>0.0</td>\n",
       "      <td>0.0</td>\n",
       "      <td>0.0</td>\n",
       "      <td>0.0</td>\n",
       "      <td>0.0</td>\n",
       "      <td>1.0</td>\n",
       "      <td>1.0</td>\n",
       "      <td>0.0</td>\n",
       "    </tr>\n",
       "    <tr>\n",
       "      <th>3</th>\n",
       "      <td>1.0</td>\n",
       "      <td>0.0</td>\n",
       "      <td>0.0</td>\n",
       "      <td>0.0</td>\n",
       "      <td>0.0</td>\n",
       "      <td>0.0</td>\n",
       "      <td>0.0</td>\n",
       "      <td>0.0</td>\n",
       "      <td>0.0</td>\n",
       "      <td>0.0</td>\n",
       "      <td>...</td>\n",
       "      <td>0.0</td>\n",
       "      <td>1.0</td>\n",
       "      <td>0.0</td>\n",
       "      <td>0.0</td>\n",
       "      <td>0.0</td>\n",
       "      <td>1.0</td>\n",
       "      <td>0.0</td>\n",
       "      <td>0.0</td>\n",
       "      <td>1.0</td>\n",
       "      <td>0.0</td>\n",
       "    </tr>\n",
       "    <tr>\n",
       "      <th>4</th>\n",
       "      <td>0.0</td>\n",
       "      <td>0.0</td>\n",
       "      <td>0.0</td>\n",
       "      <td>1.0</td>\n",
       "      <td>0.0</td>\n",
       "      <td>0.0</td>\n",
       "      <td>0.0</td>\n",
       "      <td>0.0</td>\n",
       "      <td>0.0</td>\n",
       "      <td>0.0</td>\n",
       "      <td>...</td>\n",
       "      <td>0.0</td>\n",
       "      <td>0.0</td>\n",
       "      <td>0.0</td>\n",
       "      <td>0.0</td>\n",
       "      <td>0.0</td>\n",
       "      <td>0.0</td>\n",
       "      <td>0.0</td>\n",
       "      <td>0.0</td>\n",
       "      <td>1.0</td>\n",
       "      <td>0.0</td>\n",
       "    </tr>\n",
       "  </tbody>\n",
       "</table>\n",
       "<p>5 rows × 101 columns</p>\n",
       "</div>"
      ],
      "text/plain": [
       "   x0_California  x0_Nevada  x0_Oregon  x0_Washington  x1_Yes  x2_Extended  \\\n",
       "0            0.0        0.0        0.0            1.0     0.0          0.0   \n",
       "1            0.0        0.0        0.0            0.0     0.0          1.0   \n",
       "2            0.0        1.0        0.0            0.0     0.0          0.0   \n",
       "3            1.0        0.0        0.0            0.0     0.0          0.0   \n",
       "4            0.0        0.0        0.0            1.0     0.0          0.0   \n",
       "\n",
       "   x2_Premium  x3_College  x3_Doctor  x3_High School or Below  ...  \\\n",
       "0         0.0         0.0        0.0                      0.0  ...   \n",
       "1         0.0         0.0        0.0                      0.0  ...   \n",
       "2         1.0         0.0        0.0                      0.0  ...   \n",
       "3         0.0         0.0        0.0                      0.0  ...   \n",
       "4         0.0         0.0        0.0                      0.0  ...   \n",
       "\n",
       "   x12_Branch  x12_Call Center  x12_Web  x13_Luxury Car  x13_Luxury SUV  \\\n",
       "0         0.0              0.0      0.0             0.0             0.0   \n",
       "1         0.0              0.0      0.0             0.0             0.0   \n",
       "2         0.0              0.0      0.0             0.0             0.0   \n",
       "3         0.0              1.0      0.0             0.0             0.0   \n",
       "4         0.0              0.0      0.0             0.0             0.0   \n",
       "\n",
       "   x13_SUV  x13_Sports Car  x13_Two-Door Car  x14_Medsize  x14_Small  \n",
       "0      0.0             0.0               1.0          1.0        0.0  \n",
       "1      0.0             0.0               0.0          1.0        0.0  \n",
       "2      0.0             0.0               1.0          1.0        0.0  \n",
       "3      1.0             0.0               0.0          1.0        0.0  \n",
       "4      0.0             0.0               0.0          1.0        0.0  \n",
       "\n",
       "[5 rows x 101 columns]"
      ]
     },
     "execution_count": 29,
     "metadata": {},
     "output_type": "execute_result"
    }
   ],
   "source": [
    "df_cat_encoded.head()"
   ]
  },
  {
   "cell_type": "markdown",
   "metadata": {},
   "source": [
    "#### 4. Concat DataFrames"
   ]
  },
  {
   "cell_type": "code",
   "execution_count": 30,
   "metadata": {
    "scrolled": false
   },
   "outputs": [
    {
     "data": {
      "text/html": [
       "<div>\n",
       "<style scoped>\n",
       "    .dataframe tbody tr th:only-of-type {\n",
       "        vertical-align: middle;\n",
       "    }\n",
       "\n",
       "    .dataframe tbody tr th {\n",
       "        vertical-align: top;\n",
       "    }\n",
       "\n",
       "    .dataframe thead th {\n",
       "        text-align: right;\n",
       "    }\n",
       "</style>\n",
       "<table border=\"1\" class=\"dataframe\">\n",
       "  <thead>\n",
       "    <tr style=\"text-align: right;\">\n",
       "      <th></th>\n",
       "      <th>x0_California</th>\n",
       "      <th>x0_Nevada</th>\n",
       "      <th>x0_Oregon</th>\n",
       "      <th>x0_Washington</th>\n",
       "      <th>x1_Yes</th>\n",
       "      <th>x2_Extended</th>\n",
       "      <th>x2_Premium</th>\n",
       "      <th>x3_College</th>\n",
       "      <th>x3_Doctor</th>\n",
       "      <th>x3_High School or Below</th>\n",
       "      <th>...</th>\n",
       "      <th>x14_Medsize</th>\n",
       "      <th>x14_Small</th>\n",
       "      <th>Customer Lifetime Value</th>\n",
       "      <th>Income</th>\n",
       "      <th>Monthly Premium Auto</th>\n",
       "      <th>Months Since Last Claim</th>\n",
       "      <th>Months Since Policy Inception</th>\n",
       "      <th>Number of Open Complaints</th>\n",
       "      <th>Number of Policies</th>\n",
       "      <th>Total Claim Amount</th>\n",
       "    </tr>\n",
       "  </thead>\n",
       "  <tbody>\n",
       "    <tr>\n",
       "      <th>0</th>\n",
       "      <td>0.0</td>\n",
       "      <td>0.0</td>\n",
       "      <td>0.0</td>\n",
       "      <td>1.0</td>\n",
       "      <td>0.0</td>\n",
       "      <td>0.0</td>\n",
       "      <td>0.0</td>\n",
       "      <td>0.0</td>\n",
       "      <td>0.0</td>\n",
       "      <td>0.0</td>\n",
       "      <td>...</td>\n",
       "      <td>1.0</td>\n",
       "      <td>0.0</td>\n",
       "      <td>-0.277923</td>\n",
       "      <td>0.223258</td>\n",
       "      <td>-0.256446</td>\n",
       "      <td>0.611346</td>\n",
       "      <td>-0.562232</td>\n",
       "      <td>-0.153829</td>\n",
       "      <td>-0.299698</td>\n",
       "      <td>-0.061801</td>\n",
       "    </tr>\n",
       "    <tr>\n",
       "      <th>1</th>\n",
       "      <td>0.0</td>\n",
       "      <td>0.0</td>\n",
       "      <td>0.0</td>\n",
       "      <td>0.0</td>\n",
       "      <td>0.0</td>\n",
       "      <td>1.0</td>\n",
       "      <td>0.0</td>\n",
       "      <td>0.0</td>\n",
       "      <td>0.0</td>\n",
       "      <td>0.0</td>\n",
       "      <td>...</td>\n",
       "      <td>1.0</td>\n",
       "      <td>0.0</td>\n",
       "      <td>-0.043034</td>\n",
       "      <td>-0.357433</td>\n",
       "      <td>0.006543</td>\n",
       "      <td>-0.060029</td>\n",
       "      <td>-0.062667</td>\n",
       "      <td>-0.121752</td>\n",
       "      <td>0.607294</td>\n",
       "      <td>0.692233</td>\n",
       "    </tr>\n",
       "    <tr>\n",
       "      <th>2</th>\n",
       "      <td>0.0</td>\n",
       "      <td>1.0</td>\n",
       "      <td>0.0</td>\n",
       "      <td>0.0</td>\n",
       "      <td>0.0</td>\n",
       "      <td>0.0</td>\n",
       "      <td>1.0</td>\n",
       "      <td>0.0</td>\n",
       "      <td>0.0</td>\n",
       "      <td>0.0</td>\n",
       "      <td>...</td>\n",
       "      <td>1.0</td>\n",
       "      <td>0.0</td>\n",
       "      <td>0.564307</td>\n",
       "      <td>0.290405</td>\n",
       "      <td>0.341137</td>\n",
       "      <td>0.228860</td>\n",
       "      <td>-0.286412</td>\n",
       "      <td>-0.335303</td>\n",
       "      <td>-0.321007</td>\n",
       "      <td>0.361892</td>\n",
       "    </tr>\n",
       "    <tr>\n",
       "      <th>3</th>\n",
       "      <td>1.0</td>\n",
       "      <td>0.0</td>\n",
       "      <td>0.0</td>\n",
       "      <td>0.0</td>\n",
       "      <td>0.0</td>\n",
       "      <td>0.0</td>\n",
       "      <td>0.0</td>\n",
       "      <td>0.0</td>\n",
       "      <td>0.0</td>\n",
       "      <td>0.0</td>\n",
       "      <td>...</td>\n",
       "      <td>1.0</td>\n",
       "      <td>0.0</td>\n",
       "      <td>-0.022778</td>\n",
       "      <td>-0.540276</td>\n",
       "      <td>0.161900</td>\n",
       "      <td>0.125611</td>\n",
       "      <td>0.264515</td>\n",
       "      <td>-0.184034</td>\n",
       "      <td>0.735595</td>\n",
       "      <td>0.143727</td>\n",
       "    </tr>\n",
       "    <tr>\n",
       "      <th>4</th>\n",
       "      <td>0.0</td>\n",
       "      <td>0.0</td>\n",
       "      <td>0.0</td>\n",
       "      <td>1.0</td>\n",
       "      <td>0.0</td>\n",
       "      <td>0.0</td>\n",
       "      <td>0.0</td>\n",
       "      <td>0.0</td>\n",
       "      <td>0.0</td>\n",
       "      <td>0.0</td>\n",
       "      <td>...</td>\n",
       "      <td>1.0</td>\n",
       "      <td>0.0</td>\n",
       "      <td>-0.438691</td>\n",
       "      <td>0.118089</td>\n",
       "      <td>-0.341202</td>\n",
       "      <td>-0.178516</td>\n",
       "      <td>-0.084572</td>\n",
       "      <td>-0.245161</td>\n",
       "      <td>-0.477634</td>\n",
       "      <td>-0.591547</td>\n",
       "    </tr>\n",
       "  </tbody>\n",
       "</table>\n",
       "<p>5 rows × 109 columns</p>\n",
       "</div>"
      ],
      "text/plain": [
       "   x0_California  x0_Nevada  x0_Oregon  x0_Washington  x1_Yes  x2_Extended  \\\n",
       "0            0.0        0.0        0.0            1.0     0.0          0.0   \n",
       "1            0.0        0.0        0.0            0.0     0.0          1.0   \n",
       "2            0.0        1.0        0.0            0.0     0.0          0.0   \n",
       "3            1.0        0.0        0.0            0.0     0.0          0.0   \n",
       "4            0.0        0.0        0.0            1.0     0.0          0.0   \n",
       "\n",
       "   x2_Premium  x3_College  x3_Doctor  x3_High School or Below  ...  \\\n",
       "0         0.0         0.0        0.0                      0.0  ...   \n",
       "1         0.0         0.0        0.0                      0.0  ...   \n",
       "2         1.0         0.0        0.0                      0.0  ...   \n",
       "3         0.0         0.0        0.0                      0.0  ...   \n",
       "4         0.0         0.0        0.0                      0.0  ...   \n",
       "\n",
       "   x14_Medsize  x14_Small  Customer Lifetime Value    Income  \\\n",
       "0          1.0        0.0                -0.277923  0.223258   \n",
       "1          1.0        0.0                -0.043034 -0.357433   \n",
       "2          1.0        0.0                 0.564307  0.290405   \n",
       "3          1.0        0.0                -0.022778 -0.540276   \n",
       "4          1.0        0.0                -0.438691  0.118089   \n",
       "\n",
       "   Monthly Premium Auto  Months Since Last Claim  \\\n",
       "0             -0.256446                 0.611346   \n",
       "1              0.006543                -0.060029   \n",
       "2              0.341137                 0.228860   \n",
       "3              0.161900                 0.125611   \n",
       "4             -0.341202                -0.178516   \n",
       "\n",
       "   Months Since Policy Inception  Number of Open Complaints  \\\n",
       "0                      -0.562232                  -0.153829   \n",
       "1                      -0.062667                  -0.121752   \n",
       "2                      -0.286412                  -0.335303   \n",
       "3                       0.264515                  -0.184034   \n",
       "4                      -0.084572                  -0.245161   \n",
       "\n",
       "   Number of Policies  Total Claim Amount  \n",
       "0           -0.299698           -0.061801  \n",
       "1            0.607294            0.692233  \n",
       "2           -0.321007            0.361892  \n",
       "3            0.735595            0.143727  \n",
       "4           -0.477634           -0.591547  \n",
       "\n",
       "[5 rows x 109 columns]"
      ]
     },
     "execution_count": 30,
     "metadata": {},
     "output_type": "execute_result"
    }
   ],
   "source": [
    "df_processed=pd.concat([df_cat_encoded,df_num_normalised],axis=1)\n",
    "df_processed.head()"
   ]
  },
  {
   "cell_type": "markdown",
   "metadata": {},
   "source": [
    "## III. Normality Check\n",
    "\n",
    "##### Qualitative tests\n",
    "\n",
    "###### a) BoxPlot "
   ]
  },
  {
   "cell_type": "code",
   "execution_count": 31,
   "metadata": {
    "scrolled": true
   },
   "outputs": [
    {
     "name": "stdout",
     "output_type": "stream",
     "text": [
      "Boxplot for variable:  Customer Lifetime Value\n"
     ]
    },
    {
     "data": {
      "image/png": "[encoded data removed]",
      "text/plain": [
       "<Figure size 432x288 with 1 Axes>"
      ]
     },
     "metadata": {
      "needs_background": "light"
     },
     "output_type": "display_data"
    },
    {
     "name": "stdout",
     "output_type": "stream",
     "text": [
      "Boxplot for variable:  Income\n"
     ]
    },
    {
     "data": {
      "image/png": "[encoded data removed]",
      "text/plain": [
       "<Figure size 432x288 with 1 Axes>"
      ]
     },
     "metadata": {
      "needs_background": "light"
     },
     "output_type": "display_data"
    },
    {
     "name": "stdout",
     "output_type": "stream",
     "text": [
      "Boxplot for variable:  Monthly Premium Auto\n"
     ]
    },
    {
     "data": {
      "image/png": "[encoded data removed]",
      "text/plain": [
       "<Figure size 432x288 with 1 Axes>"
      ]
     },
     "metadata": {
      "needs_background": "light"
     },
     "output_type": "display_data"
    },
    {
     "name": "stdout",
     "output_type": "stream",
     "text": [
      "Boxplot for variable:  Months Since Last Claim\n"
     ]
    },
    {
     "data": {
      "image/png": "[encoded data removed]",
      "text/plain": [
       "<Figure size 432x288 with 1 Axes>"
      ]
     },
     "metadata": {
      "needs_background": "light"
     },
     "output_type": "display_data"
    },
    {
     "name": "stdout",
     "output_type": "stream",
     "text": [
      "Boxplot for variable:  Months Since Policy Inception\n"
     ]
    },
    {
     "data": {
      "image/png": "[encoded data removed]",
      "text/plain": [
       "<Figure size 432x288 with 1 Axes>"
      ]
     },
     "metadata": {
      "needs_background": "light"
     },
     "output_type": "display_data"
    },
    {
     "name": "stdout",
     "output_type": "stream",
     "text": [
      "Boxplot for variable:  Number of Open Complaints\n"
     ]
    },
    {
     "data": {
      "image/png": "[encoded data removed]",
      "text/plain": [
       "<Figure size 432x288 with 1 Axes>"
      ]
     },
     "metadata": {
      "needs_background": "light"
     },
     "output_type": "display_data"
    },
    {
     "name": "stdout",
     "output_type": "stream",
     "text": [
      "Boxplot for variable:  Number of Policies\n"
     ]
    },
    {
     "data": {
      "image/png": "[encoded data removed]",
      "text/plain": [
       "<Figure size 432x288 with 1 Axes>"
      ]
     },
     "metadata": {
      "needs_background": "light"
     },
     "output_type": "display_data"
    },
    {
     "name": "stdout",
     "output_type": "stream",
     "text": [
      "Boxplot for variable:  Total Claim Amount\n"
     ]
    },
    {
     "data": {
      "image/png": "[encoded data removed]",
      "text/plain": [
       "<Figure size 432x288 with 1 Axes>"
      ]
     },
     "metadata": {
      "needs_background": "light"
     },
     "output_type": "display_data"
    }
   ],
   "source": [
    "#Before standardisation and normalisation\n",
    "cols = list(df_num)\n",
    "for col in cols:\n",
    "    print(\"Boxplot for variable: \",col)\n",
    "    sns.boxplot(y=df_num[col])\n",
    "    plt.show()"
   ]
  },
  {
   "cell_type": "code",
   "execution_count": 32,
   "metadata": {
    "scrolled": true
   },
   "outputs": [
    {
     "name": "stdout",
     "output_type": "stream",
     "text": [
      "Boxplot for variable:  Customer Lifetime Value\n"
     ]
    },
    {
     "data": {
      "image/png": "[encoded data removed]",
      "text/plain": [
       "<Figure size 432x288 with 1 Axes>"
      ]
     },
     "metadata": {
      "needs_background": "light"
     },
     "output_type": "display_data"
    },
    {
     "name": "stdout",
     "output_type": "stream",
     "text": [
      "Boxplot for variable:  Income\n"
     ]
    },
    {
     "data": {
      "image/png": "[encoded data removed]",
      "text/plain": [
       "<Figure size 432x288 with 1 Axes>"
      ]
     },
     "metadata": {
      "needs_background": "light"
     },
     "output_type": "display_data"
    },
    {
     "name": "stdout",
     "output_type": "stream",
     "text": [
      "Boxplot for variable:  Monthly Premium Auto\n"
     ]
    },
    {
     "data": {
      "image/png": "[encoded data removed]",
      "text/plain": [
       "<Figure size 432x288 with 1 Axes>"
      ]
     },
     "metadata": {
      "needs_background": "light"
     },
     "output_type": "display_data"
    },
    {
     "name": "stdout",
     "output_type": "stream",
     "text": [
      "Boxplot for variable:  Months Since Last Claim\n"
     ]
    },
    {
     "data": {
      "image/png": "[encoded data removed]",
      "text/plain": [
       "<Figure size 432x288 with 1 Axes>"
      ]
     },
     "metadata": {
      "needs_background": "light"
     },
     "output_type": "display_data"
    },
    {
     "name": "stdout",
     "output_type": "stream",
     "text": [
      "Boxplot for variable:  Months Since Policy Inception\n"
     ]
    },
    {
     "data": {
      "image/png": "[encoded data removed]",
      "text/plain": [
       "<Figure size 432x288 with 1 Axes>"
      ]
     },
     "metadata": {
      "needs_background": "light"
     },
     "output_type": "display_data"
    },
    {
     "name": "stdout",
     "output_type": "stream",
     "text": [
      "Boxplot for variable:  Number of Open Complaints\n"
     ]
    },
    {
     "data": {
      "image/png": "[encoded data removed]",
      "text/plain": [
       "<Figure size 432x288 with 1 Axes>"
      ]
     },
     "metadata": {
      "needs_background": "light"
     },
     "output_type": "display_data"
    },
    {
     "name": "stdout",
     "output_type": "stream",
     "text": [
      "Boxplot for variable:  Number of Policies\n"
     ]
    },
    {
     "data": {
      "image/png": "[encoded data removed]",
      "text/plain": [
       "<Figure size 432x288 with 1 Axes>"
      ]
     },
     "metadata": {
      "needs_background": "light"
     },
     "output_type": "display_data"
    },
    {
     "name": "stdout",
     "output_type": "stream",
     "text": [
      "Boxplot for variable:  Total Claim Amount\n"
     ]
    },
    {
     "data": {
      "image/png": "[encoded data removed]",
      "text/plain": [
       "<Figure size 432x288 with 1 Axes>"
      ]
     },
     "metadata": {
      "needs_background": "light"
     },
     "output_type": "display_data"
    }
   ],
   "source": [
    "#After standardisation and normalisation\n",
    "cols = list(df_num_normalised)\n",
    "for col in cols:\n",
    "    print(\"Boxplot for variable: \",col)\n",
    "    sns.boxplot(y=df_num_normalised[col])\n",
    "    plt.show()"
   ]
  },
  {
   "cell_type": "markdown",
   "metadata": {},
   "source": [
    "###### b) Q-Q Plot"
   ]
  },
  {
   "cell_type": "code",
   "execution_count": 33,
   "metadata": {
    "scrolled": true
   },
   "outputs": [
    {
     "name": "stdout",
     "output_type": "stream",
     "text": [
      "Q-Q plot for variable:  Customer Lifetime Value\n"
     ]
    },
    {
     "name": "stderr",
     "output_type": "stream",
     "text": [
      "<ipython-input-33-c554d8a4ccb8>:8: MatplotlibDeprecationWarning: Adding an axes using the same arguments as a previous axes currently reuses the earlier instance.  In a future version, a new instance will always be created and returned.  Meanwhile, this warning can be suppressed, and the future behavior ensured, by passing a unique label to each axes instance.\n",
      "  plt.subplot()\n"
     ]
    },
    {
     "data": {
      "image/png": "[encoded data removed]",
      "text/plain": [
       "<Figure size 432x288 with 1 Axes>"
      ]
     },
     "metadata": {
      "needs_background": "light"
     },
     "output_type": "display_data"
    },
    {
     "data": {
      "image/png": "[encoded data removed]",
      "text/plain": [
       "<Figure size 432x288 with 1 Axes>"
      ]
     },
     "metadata": {
      "needs_background": "light"
     },
     "output_type": "display_data"
    },
    {
     "name": "stdout",
     "output_type": "stream",
     "text": [
      "Q-Q plot for variable:  Income\n"
     ]
    },
    {
     "name": "stderr",
     "output_type": "stream",
     "text": [
      "<ipython-input-33-c554d8a4ccb8>:8: MatplotlibDeprecationWarning: Adding an axes using the same arguments as a previous axes currently reuses the earlier instance.  In a future version, a new instance will always be created and returned.  Meanwhile, this warning can be suppressed, and the future behavior ensured, by passing a unique label to each axes instance.\n",
      "  plt.subplot()\n"
     ]
    },
    {
     "data": {
      "image/png": "[encoded data removed]",
      "text/plain": [
       "<Figure size 432x288 with 1 Axes>"
      ]
     },
     "metadata": {
      "needs_background": "light"
     },
     "output_type": "display_data"
    },
    {
     "data": {
      "image/png": "[encoded data removed]",
      "text/plain": [
       "<Figure size 432x288 with 1 Axes>"
      ]
     },
     "metadata": {
      "needs_background": "light"
     },
     "output_type": "display_data"
    },
    {
     "name": "stdout",
     "output_type": "stream",
     "text": [
      "Q-Q plot for variable:  Monthly Premium Auto\n"
     ]
    },
    {
     "name": "stderr",
     "output_type": "stream",
     "text": [
      "<ipython-input-33-c554d8a4ccb8>:8: MatplotlibDeprecationWarning: Adding an axes using the same arguments as a previous axes currently reuses the earlier instance.  In a future version, a new instance will always be created and returned.  Meanwhile, this warning can be suppressed, and the future behavior ensured, by passing a unique label to each axes instance.\n",
      "  plt.subplot()\n"
     ]
    },
    {
     "data": {
      "image/png": "[encoded data removed]",
      "text/plain": [
       "<Figure size 432x288 with 1 Axes>"
      ]
     },
     "metadata": {
      "needs_background": "light"
     },
     "output_type": "display_data"
    },
    {
     "data": {
      "image/png": "[encoded data removed]",
      "text/plain": [
       "<Figure size 432x288 with 1 Axes>"
      ]
     },
     "metadata": {
      "needs_background": "light"
     },
     "output_type": "display_data"
    },
    {
     "name": "stdout",
     "output_type": "stream",
     "text": [
      "Q-Q plot for variable:  Months Since Last Claim\n"
     ]
    },
    {
     "name": "stderr",
     "output_type": "stream",
     "text": [
      "<ipython-input-33-c554d8a4ccb8>:8: MatplotlibDeprecationWarning: Adding an axes using the same arguments as a previous axes currently reuses the earlier instance.  In a future version, a new instance will always be created and returned.  Meanwhile, this warning can be suppressed, and the future behavior ensured, by passing a unique label to each axes instance.\n",
      "  plt.subplot()\n"
     ]
    },
    {
     "data": {
      "image/png": "[encoded data removed]",
      "text/plain": [
       "<Figure size 432x288 with 1 Axes>"
      ]
     },
     "metadata": {
      "needs_background": "light"
     },
     "output_type": "display_data"
    },
    {
     "data": {
      "image/png": "[encoded data removed]",
      "text/plain": [
       "<Figure size 432x288 with 1 Axes>"
      ]
     },
     "metadata": {
      "needs_background": "light"
     },
     "output_type": "display_data"
    },
    {
     "name": "stdout",
     "output_type": "stream",
     "text": [
      "Q-Q plot for variable:  Months Since Policy Inception\n"
     ]
    },
    {
     "name": "stderr",
     "output_type": "stream",
     "text": [
      "<ipython-input-33-c554d8a4ccb8>:8: MatplotlibDeprecationWarning: Adding an axes using the same arguments as a previous axes currently reuses the earlier instance.  In a future version, a new instance will always be created and returned.  Meanwhile, this warning can be suppressed, and the future behavior ensured, by passing a unique label to each axes instance.\n",
      "  plt.subplot()\n"
     ]
    },
    {
     "data": {
      "image/png": "[encoded data removed]",
      "text/plain": [
       "<Figure size 432x288 with 1 Axes>"
      ]
     },
     "metadata": {
      "needs_background": "light"
     },
     "output_type": "display_data"
    },
    {
     "data": {
      "image/png": "[encoded data removed]",
      "text/plain": [
       "<Figure size 432x288 with 1 Axes>"
      ]
     },
     "metadata": {
      "needs_background": "light"
     },
     "output_type": "display_data"
    },
    {
     "name": "stdout",
     "output_type": "stream",
     "text": [
      "Q-Q plot for variable:  Number of Open Complaints\n"
     ]
    },
    {
     "name": "stderr",
     "output_type": "stream",
     "text": [
      "<ipython-input-33-c554d8a4ccb8>:8: MatplotlibDeprecationWarning: Adding an axes using the same arguments as a previous axes currently reuses the earlier instance.  In a future version, a new instance will always be created and returned.  Meanwhile, this warning can be suppressed, and the future behavior ensured, by passing a unique label to each axes instance.\n",
      "  plt.subplot()\n"
     ]
    },
    {
     "data": {
      "image/png": "[encoded data removed]",
      "text/plain": [
       "<Figure size 432x288 with 1 Axes>"
      ]
     },
     "metadata": {
      "needs_background": "light"
     },
     "output_type": "display_data"
    },
    {
     "data": {
      "image/png": "[encoded data removed]",
      "text/plain": [
       "<Figure size 432x288 with 1 Axes>"
      ]
     },
     "metadata": {
      "needs_background": "light"
     },
     "output_type": "display_data"
    },
    {
     "name": "stdout",
     "output_type": "stream",
     "text": [
      "Q-Q plot for variable:  Number of Policies\n"
     ]
    },
    {
     "name": "stderr",
     "output_type": "stream",
     "text": [
      "<ipython-input-33-c554d8a4ccb8>:8: MatplotlibDeprecationWarning: Adding an axes using the same arguments as a previous axes currently reuses the earlier instance.  In a future version, a new instance will always be created and returned.  Meanwhile, this warning can be suppressed, and the future behavior ensured, by passing a unique label to each axes instance.\n",
      "  plt.subplot()\n"
     ]
    },
    {
     "data": {
      "image/png": "[encoded data removed]",
      "text/plain": [
       "<Figure size 432x288 with 1 Axes>"
      ]
     },
     "metadata": {
      "needs_background": "light"
     },
     "output_type": "display_data"
    },
    {
     "data": {
      "image/png": "[encoded data removed]",
      "text/plain": [
       "<Figure size 432x288 with 1 Axes>"
      ]
     },
     "metadata": {
      "needs_background": "light"
     },
     "output_type": "display_data"
    },
    {
     "name": "stdout",
     "output_type": "stream",
     "text": [
      "Q-Q plot for variable:  Total Claim Amount\n"
     ]
    },
    {
     "name": "stderr",
     "output_type": "stream",
     "text": [
      "<ipython-input-33-c554d8a4ccb8>:8: MatplotlibDeprecationWarning: Adding an axes using the same arguments as a previous axes currently reuses the earlier instance.  In a future version, a new instance will always be created and returned.  Meanwhile, this warning can be suppressed, and the future behavior ensured, by passing a unique label to each axes instance.\n",
      "  plt.subplot()\n"
     ]
    },
    {
     "data": {
      "image/png": "[encoded data removed]",
      "text/plain": [
       "<Figure size 432x288 with 1 Axes>"
      ]
     },
     "metadata": {
      "needs_background": "light"
     },
     "output_type": "display_data"
    },
    {
     "data": {
      "image/png": "[encoded data removed]",
      "text/plain": [
       "<Figure size 432x288 with 1 Axes>"
      ]
     },
     "metadata": {
      "needs_background": "light"
     },
     "output_type": "display_data"
    }
   ],
   "source": [
    "#Before standardisation and normalisation\n",
    "from statsmodels.graphics.gofplots import qqplot\n",
    "cols = list(df_num)\n",
    "for col in cols:\n",
    "    print(\"Q-Q plot for variable: \",col)\n",
    "    #Before\n",
    "    qqplot(df_num[col], line='s')\n",
    "    plt.subplot()\n",
    "    #After\n",
    "    qqplot(df_num_normalised[col], line=\"s\",color=\"green\")\n",
    "    plt.show()\n"
   ]
  },
  {
   "cell_type": "markdown",
   "metadata": {},
   "source": [
    "###### c) Distplot"
   ]
  },
  {
   "cell_type": "code",
   "execution_count": 34,
   "metadata": {
    "scrolled": true
   },
   "outputs": [
    {
     "name": "stdout",
     "output_type": "stream",
     "text": [
      "Distplot:  Customer Lifetime Value\n"
     ]
    },
    {
     "data": {
      "image/png": "[encoded data removed]",
      "text/plain": [
       "<Figure size 432x288 with 1 Axes>"
      ]
     },
     "metadata": {
      "needs_background": "light"
     },
     "output_type": "display_data"
    },
    {
     "name": "stdout",
     "output_type": "stream",
     "text": [
      "Distplot:  Income\n"
     ]
    },
    {
     "data": {
      "image/png": "[encoded data removed]",
      "text/plain": [
       "<Figure size 432x288 with 1 Axes>"
      ]
     },
     "metadata": {
      "needs_background": "light"
     },
     "output_type": "display_data"
    },
    {
     "name": "stdout",
     "output_type": "stream",
     "text": [
      "Distplot:  Monthly Premium Auto\n"
     ]
    },
    {
     "data": {
      "image/png": "[encoded data removed]",
      "text/plain": [
       "<Figure size 432x288 with 1 Axes>"
      ]
     },
     "metadata": {
      "needs_background": "light"
     },
     "output_type": "display_data"
    },
    {
     "name": "stdout",
     "output_type": "stream",
     "text": [
      "Distplot:  Months Since Last Claim\n"
     ]
    },
    {
     "data": {
      "image/png": "[encoded data removed]",
      "text/plain": [
       "<Figure size 432x288 with 1 Axes>"
      ]
     },
     "metadata": {
      "needs_background": "light"
     },
     "output_type": "display_data"
    },
    {
     "name": "stdout",
     "output_type": "stream",
     "text": [
      "Distplot:  Months Since Policy Inception\n"
     ]
    },
    {
     "data": {
      "image/png": "[encoded data removed]",
      "text/plain": [
       "<Figure size 432x288 with 1 Axes>"
      ]
     },
     "metadata": {
      "needs_background": "light"
     },
     "output_type": "display_data"
    },
    {
     "name": "stdout",
     "output_type": "stream",
     "text": [
      "Distplot:  Number of Open Complaints\n"
     ]
    },
    {
     "name": "stderr",
     "output_type": "stream",
     "text": [
      "/opt/anaconda3/lib/python3.8/site-packages/seaborn/distributions.py:369: UserWarning: Default bandwidth for data is 0; skipping density estimation.\n",
      "  warnings.warn(msg, UserWarning)\n"
     ]
    },
    {
     "data": {
      "image/png": "[encoded data removed]",
      "text/plain": [
       "<Figure size 432x288 with 1 Axes>"
      ]
     },
     "metadata": {
      "needs_background": "light"
     },
     "output_type": "display_data"
    },
    {
     "name": "stdout",
     "output_type": "stream",
     "text": [
      "Distplot:  Number of Policies\n"
     ]
    },
    {
     "data": {
      "image/png": "[encoded data removed]",
      "text/plain": [
       "<Figure size 432x288 with 1 Axes>"
      ]
     },
     "metadata": {
      "needs_background": "light"
     },
     "output_type": "display_data"
    },
    {
     "name": "stdout",
     "output_type": "stream",
     "text": [
      "Distplot:  Total Claim Amount\n"
     ]
    },
    {
     "data": {
      "image/png": "[encoded data removed]",
      "text/plain": [
       "<Figure size 432x288 with 1 Axes>"
      ]
     },
     "metadata": {
      "needs_background": "light"
     },
     "output_type": "display_data"
    }
   ],
   "source": [
    "#After standardisation and normalisation\n",
    "cols = list(df_num)\n",
    "for col in cols:\n",
    "    print(\"Distplot: \",col)\n",
    "    sns.distplot(df_num[col])\n",
    "    plt.show()"
   ]
  },
  {
   "cell_type": "code",
   "execution_count": 35,
   "metadata": {
    "scrolled": true
   },
   "outputs": [
    {
     "name": "stdout",
     "output_type": "stream",
     "text": [
      "Distplot:  Customer Lifetime Value\n"
     ]
    },
    {
     "data": {
      "image/png": "[encoded data removed]",
      "text/plain": [
       "<Figure size 432x288 with 1 Axes>"
      ]
     },
     "metadata": {
      "needs_background": "light"
     },
     "output_type": "display_data"
    },
    {
     "name": "stdout",
     "output_type": "stream",
     "text": [
      "Distplot:  Income\n"
     ]
    },
    {
     "data": {
      "image/png": "[encoded data removed]",
      "text/plain": [
       "<Figure size 432x288 with 1 Axes>"
      ]
     },
     "metadata": {
      "needs_background": "light"
     },
     "output_type": "display_data"
    },
    {
     "name": "stdout",
     "output_type": "stream",
     "text": [
      "Distplot:  Monthly Premium Auto\n"
     ]
    },
    {
     "data": {
      "image/png": "[encoded data removed]",
      "text/plain": [
       "<Figure size 432x288 with 1 Axes>"
      ]
     },
     "metadata": {
      "needs_background": "light"
     },
     "output_type": "display_data"
    },
    {
     "name": "stdout",
     "output_type": "stream",
     "text": [
      "Distplot:  Months Since Last Claim\n"
     ]
    },
    {
     "data": {
      "image/png": "[encoded data removed]",
      "text/plain": [
       "<Figure size 432x288 with 1 Axes>"
      ]
     },
     "metadata": {
      "needs_background": "light"
     },
     "output_type": "display_data"
    },
    {
     "name": "stdout",
     "output_type": "stream",
     "text": [
      "Distplot:  Months Since Policy Inception\n"
     ]
    },
    {
     "data": {
      "image/png": "[encoded data removed]",
      "text/plain": [
       "<Figure size 432x288 with 1 Axes>"
      ]
     },
     "metadata": {
      "needs_background": "light"
     },
     "output_type": "display_data"
    },
    {
     "name": "stdout",
     "output_type": "stream",
     "text": [
      "Distplot:  Number of Open Complaints\n"
     ]
    },
    {
     "data": {
      "image/png": "[encoded data removed]",
      "text/plain": [
       "<Figure size 432x288 with 1 Axes>"
      ]
     },
     "metadata": {
      "needs_background": "light"
     },
     "output_type": "display_data"
    },
    {
     "name": "stdout",
     "output_type": "stream",
     "text": [
      "Distplot:  Number of Policies\n"
     ]
    },
    {
     "data": {
      "image/png": "[encoded data removed]",
      "text/plain": [
       "<Figure size 432x288 with 1 Axes>"
      ]
     },
     "metadata": {
      "needs_background": "light"
     },
     "output_type": "display_data"
    },
    {
     "name": "stdout",
     "output_type": "stream",
     "text": [
      "Distplot:  Total Claim Amount\n"
     ]
    },
    {
     "data": {
      "image/png": "[encoded data removed]",
      "text/plain": [
       "<Figure size 432x288 with 1 Axes>"
      ]
     },
     "metadata": {
      "needs_background": "light"
     },
     "output_type": "display_data"
    }
   ],
   "source": [
    "#After standardisation and normalisation\n",
    "cols = list(df_num_normalised)\n",
    "for col in cols:\n",
    "    print(\"Distplot: \",col)\n",
    "    sns.distplot(df_num_normalised[col])\n",
    "    plt.show()\n"
   ]
  },
  {
   "cell_type": "markdown",
   "metadata": {},
   "source": [
    "##### Quantitative tests\n",
    "###### a) Shapiro-Wilk"
   ]
  },
  {
   "cell_type": "code",
   "execution_count": 36,
   "metadata": {
    "scrolled": false
   },
   "outputs": [
    {
     "name": "stdout",
     "output_type": "stream",
     "text": [
      "\n",
      "\n",
      "Column:  Customer Lifetime Value\n",
      "Ho: The distribution is normal\n",
      "Statistics=0.882, p=0.000\n",
      "Reject Ho - Not normal\n",
      "\n",
      "\n",
      "Column:  Income\n",
      "Ho: The distribution is normal\n",
      "Statistics=0.967, p=0.000\n",
      "Reject Ho - Not normal\n",
      "\n",
      "\n",
      "Column:  Monthly Premium Auto\n",
      "Ho: The distribution is normal\n",
      "Statistics=0.947, p=0.000\n",
      "Reject Ho - Not normal\n",
      "\n",
      "\n",
      "Column:  Months Since Last Claim\n",
      "Ho: The distribution is normal\n",
      "Statistics=0.970, p=0.000\n",
      "Reject Ho - Not normal\n",
      "\n",
      "\n",
      "Column:  Months Since Policy Inception\n",
      "Ho: The distribution is normal\n",
      "Statistics=0.971, p=0.000\n",
      "Reject Ho - Not normal\n",
      "\n",
      "\n",
      "Column:  Number of Open Complaints\n",
      "Ho: The distribution is normal\n",
      "Statistics=0.687, p=0.000\n",
      "Reject Ho - Not normal\n",
      "\n",
      "\n",
      "Column:  Number of Policies\n",
      "Ho: The distribution is normal\n",
      "Statistics=0.882, p=0.000\n",
      "Reject Ho - Not normal\n",
      "\n",
      "\n",
      "Column:  Total Claim Amount\n",
      "Ho: The distribution is normal\n",
      "Statistics=0.988, p=0.000\n",
      "Reject Ho - Not normal\n"
     ]
    },
    {
     "name": "stderr",
     "output_type": "stream",
     "text": [
      "/opt/anaconda3/lib/python3.8/site-packages/scipy/stats/morestats.py:1681: UserWarning: p-value may not be accurate for N > 5000.\n",
      "  warnings.warn(\"p-value may not be accurate for N > 5000.\")\n"
     ]
    }
   ],
   "source": [
    "from scipy.stats import shapiro\n",
    "\n",
    "\n",
    "\n",
    "cols=list(df_num_normalised)\n",
    "\n",
    "for col in cols:\n",
    "    print('\\n')\n",
    "    print(\"Column: \", col)\n",
    "    print(\"Ho: The distribution is normal\")\n",
    "    # normality test\n",
    "    stat, p = shapiro(df_num_normalised[col])\n",
    "    print('Statistics=%.3f, p=%.3f' % (stat, p))\n",
    "    # interpret\n",
    "    significance_level=0.95\n",
    "    threshold= 1-significance_level\n",
    "\n",
    "    if p < threshold:\n",
    "        print(\"Reject Ho - Not normal\")\n",
    "    else:\n",
    "        print('Fail to reject Ho - Normal')"
   ]
  },
  {
   "cell_type": "markdown",
   "metadata": {},
   "source": [
    "###### b) D’Agostino’s K^2 Test"
   ]
  },
  {
   "cell_type": "code",
   "execution_count": 37,
   "metadata": {
    "scrolled": false
   },
   "outputs": [
    {
     "name": "stdout",
     "output_type": "stream",
     "text": [
      "\n",
      "\n",
      "Column:  Customer Lifetime Value\n",
      "Statistics=1868.134, p=0.000\n",
      "Sample does not look Gaussian (reject H0) - Not Normal Dist\n",
      "\n",
      "\n",
      "Column:  Income\n",
      "Statistics=2875.051, p=0.000\n",
      "Sample does not look Gaussian (reject H0) - Not Normal Dist\n",
      "\n",
      "\n",
      "Column:  Monthly Premium Auto\n",
      "Statistics=608.332, p=0.000\n",
      "Sample does not look Gaussian (reject H0) - Not Normal Dist\n",
      "\n",
      "\n",
      "Column:  Months Since Last Claim\n",
      "Statistics=2430.933, p=0.000\n",
      "Sample does not look Gaussian (reject H0) - Not Normal Dist\n",
      "\n",
      "\n",
      "Column:  Months Since Policy Inception\n",
      "Statistics=3129.350, p=0.000\n",
      "Sample does not look Gaussian (reject H0) - Not Normal Dist\n",
      "\n",
      "\n",
      "Column:  Number of Open Complaints\n",
      "Statistics=2992.866, p=0.000\n",
      "Sample does not look Gaussian (reject H0) - Not Normal Dist\n",
      "\n",
      "\n",
      "Column:  Number of Policies\n",
      "Statistics=1030.584, p=0.000\n",
      "Sample does not look Gaussian (reject H0) - Not Normal Dist\n",
      "\n",
      "\n",
      "Column:  Total Claim Amount\n",
      "Statistics=205.661, p=0.000\n",
      "Sample does not look Gaussian (reject H0) - Not Normal Dist\n"
     ]
    }
   ],
   "source": [
    "from scipy.stats import normaltest\n",
    "\n",
    "cols = list(df_num_normalised)\n",
    "\n",
    "for col in cols:\n",
    "    print('\\n')\n",
    "    print(\"Column: \", col)\n",
    "    # normality test\n",
    "    stat, p = normaltest(df_num_normalised[col])\n",
    "    print('Statistics=%.3f, p=%.3f' % (stat, p))\n",
    "    # interpret\n",
    "    alpha = 0.05\n",
    "    if p > alpha:\n",
    "        print('Sample looks Gaussian (fail to reject H0) - Normal Dist')\n",
    "    else:\n",
    "        print(\"Sample does not look Gaussian (reject H0) - Not Normal Dist\")"
   ]
  },
  {
   "cell_type": "markdown",
   "metadata": {},
   "source": [
    "Although the distribution is still not normal, as we can see from the quantitative tests, it looks more normal than before the normalisation (looking at the qualitative tests we can see that it has improved)"
   ]
  },
  {
   "cell_type": "markdown",
   "metadata": {},
   "source": [
    "### III. X-Y Split"
   ]
  },
  {
   "cell_type": "code",
   "execution_count": 41,
   "metadata": {},
   "outputs": [
    {
     "data": {
      "text/plain": [
       "0   -0.061801\n",
       "1    0.692233\n",
       "2    0.361892\n",
       "3    0.143727\n",
       "4   -0.591547\n",
       "Name: Total Claim Amount, dtype: float64"
      ]
     },
     "execution_count": 41,
     "metadata": {},
     "output_type": "execute_result"
    }
   ],
   "source": [
    "#x-y split\n",
    "y=df_processed[\"Total Claim Amount\"]\n",
    "y.head()"
   ]
  },
  {
   "cell_type": "code",
   "execution_count": 42,
   "metadata": {},
   "outputs": [
    {
     "data": {
      "text/html": [
       "<div>\n",
       "<style scoped>\n",
       "    .dataframe tbody tr th:only-of-type {\n",
       "        vertical-align: middle;\n",
       "    }\n",
       "\n",
       "    .dataframe tbody tr th {\n",
       "        vertical-align: top;\n",
       "    }\n",
       "\n",
       "    .dataframe thead th {\n",
       "        text-align: right;\n",
       "    }\n",
       "</style>\n",
       "<table border=\"1\" class=\"dataframe\">\n",
       "  <thead>\n",
       "    <tr style=\"text-align: right;\">\n",
       "      <th></th>\n",
       "      <th>x0_California</th>\n",
       "      <th>x0_Nevada</th>\n",
       "      <th>x0_Oregon</th>\n",
       "      <th>x0_Washington</th>\n",
       "      <th>x1_Yes</th>\n",
       "      <th>x2_Extended</th>\n",
       "      <th>x2_Premium</th>\n",
       "      <th>x3_College</th>\n",
       "      <th>x3_Doctor</th>\n",
       "      <th>x3_High School or Below</th>\n",
       "      <th>...</th>\n",
       "      <th>x13_Two-Door Car</th>\n",
       "      <th>x14_Medsize</th>\n",
       "      <th>x14_Small</th>\n",
       "      <th>Customer Lifetime Value</th>\n",
       "      <th>Income</th>\n",
       "      <th>Monthly Premium Auto</th>\n",
       "      <th>Months Since Last Claim</th>\n",
       "      <th>Months Since Policy Inception</th>\n",
       "      <th>Number of Open Complaints</th>\n",
       "      <th>Number of Policies</th>\n",
       "    </tr>\n",
       "  </thead>\n",
       "  <tbody>\n",
       "    <tr>\n",
       "      <th>0</th>\n",
       "      <td>0.0</td>\n",
       "      <td>0.0</td>\n",
       "      <td>0.0</td>\n",
       "      <td>1.0</td>\n",
       "      <td>0.0</td>\n",
       "      <td>0.0</td>\n",
       "      <td>0.0</td>\n",
       "      <td>0.0</td>\n",
       "      <td>0.0</td>\n",
       "      <td>0.0</td>\n",
       "      <td>...</td>\n",
       "      <td>1.0</td>\n",
       "      <td>1.0</td>\n",
       "      <td>0.0</td>\n",
       "      <td>-0.277923</td>\n",
       "      <td>0.223258</td>\n",
       "      <td>-0.256446</td>\n",
       "      <td>0.611346</td>\n",
       "      <td>-0.562232</td>\n",
       "      <td>-0.153829</td>\n",
       "      <td>-0.299698</td>\n",
       "    </tr>\n",
       "    <tr>\n",
       "      <th>1</th>\n",
       "      <td>0.0</td>\n",
       "      <td>0.0</td>\n",
       "      <td>0.0</td>\n",
       "      <td>0.0</td>\n",
       "      <td>0.0</td>\n",
       "      <td>1.0</td>\n",
       "      <td>0.0</td>\n",
       "      <td>0.0</td>\n",
       "      <td>0.0</td>\n",
       "      <td>0.0</td>\n",
       "      <td>...</td>\n",
       "      <td>0.0</td>\n",
       "      <td>1.0</td>\n",
       "      <td>0.0</td>\n",
       "      <td>-0.043034</td>\n",
       "      <td>-0.357433</td>\n",
       "      <td>0.006543</td>\n",
       "      <td>-0.060029</td>\n",
       "      <td>-0.062667</td>\n",
       "      <td>-0.121752</td>\n",
       "      <td>0.607294</td>\n",
       "    </tr>\n",
       "    <tr>\n",
       "      <th>2</th>\n",
       "      <td>0.0</td>\n",
       "      <td>1.0</td>\n",
       "      <td>0.0</td>\n",
       "      <td>0.0</td>\n",
       "      <td>0.0</td>\n",
       "      <td>0.0</td>\n",
       "      <td>1.0</td>\n",
       "      <td>0.0</td>\n",
       "      <td>0.0</td>\n",
       "      <td>0.0</td>\n",
       "      <td>...</td>\n",
       "      <td>1.0</td>\n",
       "      <td>1.0</td>\n",
       "      <td>0.0</td>\n",
       "      <td>0.564307</td>\n",
       "      <td>0.290405</td>\n",
       "      <td>0.341137</td>\n",
       "      <td>0.228860</td>\n",
       "      <td>-0.286412</td>\n",
       "      <td>-0.335303</td>\n",
       "      <td>-0.321007</td>\n",
       "    </tr>\n",
       "    <tr>\n",
       "      <th>3</th>\n",
       "      <td>1.0</td>\n",
       "      <td>0.0</td>\n",
       "      <td>0.0</td>\n",
       "      <td>0.0</td>\n",
       "      <td>0.0</td>\n",
       "      <td>0.0</td>\n",
       "      <td>0.0</td>\n",
       "      <td>0.0</td>\n",
       "      <td>0.0</td>\n",
       "      <td>0.0</td>\n",
       "      <td>...</td>\n",
       "      <td>0.0</td>\n",
       "      <td>1.0</td>\n",
       "      <td>0.0</td>\n",
       "      <td>-0.022778</td>\n",
       "      <td>-0.540276</td>\n",
       "      <td>0.161900</td>\n",
       "      <td>0.125611</td>\n",
       "      <td>0.264515</td>\n",
       "      <td>-0.184034</td>\n",
       "      <td>0.735595</td>\n",
       "    </tr>\n",
       "    <tr>\n",
       "      <th>4</th>\n",
       "      <td>0.0</td>\n",
       "      <td>0.0</td>\n",
       "      <td>0.0</td>\n",
       "      <td>1.0</td>\n",
       "      <td>0.0</td>\n",
       "      <td>0.0</td>\n",
       "      <td>0.0</td>\n",
       "      <td>0.0</td>\n",
       "      <td>0.0</td>\n",
       "      <td>0.0</td>\n",
       "      <td>...</td>\n",
       "      <td>0.0</td>\n",
       "      <td>1.0</td>\n",
       "      <td>0.0</td>\n",
       "      <td>-0.438691</td>\n",
       "      <td>0.118089</td>\n",
       "      <td>-0.341202</td>\n",
       "      <td>-0.178516</td>\n",
       "      <td>-0.084572</td>\n",
       "      <td>-0.245161</td>\n",
       "      <td>-0.477634</td>\n",
       "    </tr>\n",
       "  </tbody>\n",
       "</table>\n",
       "<p>5 rows × 108 columns</p>\n",
       "</div>"
      ],
      "text/plain": [
       "   x0_California  x0_Nevada  x0_Oregon  x0_Washington  x1_Yes  x2_Extended  \\\n",
       "0            0.0        0.0        0.0            1.0     0.0          0.0   \n",
       "1            0.0        0.0        0.0            0.0     0.0          1.0   \n",
       "2            0.0        1.0        0.0            0.0     0.0          0.0   \n",
       "3            1.0        0.0        0.0            0.0     0.0          0.0   \n",
       "4            0.0        0.0        0.0            1.0     0.0          0.0   \n",
       "\n",
       "   x2_Premium  x3_College  x3_Doctor  x3_High School or Below  ...  \\\n",
       "0         0.0         0.0        0.0                      0.0  ...   \n",
       "1         0.0         0.0        0.0                      0.0  ...   \n",
       "2         1.0         0.0        0.0                      0.0  ...   \n",
       "3         0.0         0.0        0.0                      0.0  ...   \n",
       "4         0.0         0.0        0.0                      0.0  ...   \n",
       "\n",
       "   x13_Two-Door Car  x14_Medsize  x14_Small  Customer Lifetime Value  \\\n",
       "0               1.0          1.0        0.0                -0.277923   \n",
       "1               0.0          1.0        0.0                -0.043034   \n",
       "2               1.0          1.0        0.0                 0.564307   \n",
       "3               0.0          1.0        0.0                -0.022778   \n",
       "4               0.0          1.0        0.0                -0.438691   \n",
       "\n",
       "     Income  Monthly Premium Auto  Months Since Last Claim  \\\n",
       "0  0.223258             -0.256446                 0.611346   \n",
       "1 -0.357433              0.006543                -0.060029   \n",
       "2  0.290405              0.341137                 0.228860   \n",
       "3 -0.540276              0.161900                 0.125611   \n",
       "4  0.118089             -0.341202                -0.178516   \n",
       "\n",
       "   Months Since Policy Inception  Number of Open Complaints  \\\n",
       "0                      -0.562232                  -0.153829   \n",
       "1                      -0.062667                  -0.121752   \n",
       "2                      -0.286412                  -0.335303   \n",
       "3                       0.264515                  -0.184034   \n",
       "4                      -0.084572                  -0.245161   \n",
       "\n",
       "   Number of Policies  \n",
       "0           -0.299698  \n",
       "1            0.607294  \n",
       "2           -0.321007  \n",
       "3            0.735595  \n",
       "4           -0.477634  \n",
       "\n",
       "[5 rows x 108 columns]"
      ]
     },
     "execution_count": 42,
     "metadata": {},
     "output_type": "execute_result"
    }
   ],
   "source": [
    "x=df_processed.drop(\"Total Claim Amount\",axis=1)\n",
    "x.head()"
   ]
  },
  {
   "cell_type": "markdown",
   "metadata": {},
   "source": [
    "### IV. Multicolinearity Check"
   ]
  },
  {
   "cell_type": "code",
   "execution_count": 38,
   "metadata": {
    "scrolled": false
   },
   "outputs": [
    {
     "data": {
      "image/png": "[encoded data removed]",
      "text/plain": [
       "<Figure size 720x576 with 2 Axes>"
      ]
     },
     "metadata": {
      "needs_background": "light"
     },
     "output_type": "display_data"
    }
   ],
   "source": [
    "corr_matrix = df_num_normalised.corr()\n",
    "fig, ax = plt.subplots(figsize=(10, 8))\n",
    "ax = sns.heatmap(corr_matrix, annot=True,cmap=\"Blues\")\n",
    "plt.show()"
   ]
  },
  {
   "cell_type": "code",
   "execution_count": 53,
   "metadata": {
    "scrolled": true
   },
   "outputs": [
    {
     "name": "stdout",
     "output_type": "stream",
     "text": [
      "                                 OLS Regression Results                                \n",
      "=======================================================================================\n",
      "Dep. Variable:     Total Claim Amount   R-squared (uncentered):                   0.762\n",
      "Model:                            OLS   Adj. R-squared (uncentered):              0.759\n",
      "Method:                 Least Squares   F-statistic:                              272.8\n",
      "Date:                Sun, 11 Oct 2020   Prob (F-statistic):                        0.00\n",
      "Time:                        18:52:01   Log-Likelihood:                          3953.7\n",
      "No. Observations:                9134   AIC:                                     -7695.\n",
      "Df Residuals:                    9028   BIC:                                     -6941.\n",
      "Df Model:                         106                                                  \n",
      "Covariance Type:            nonrobust                                                  \n",
      "=================================================================================================\n",
      "                                    coef    std err          t      P>|t|      [0.025      0.975]\n",
      "-------------------------------------------------------------------------------------------------\n",
      "x0_California                    -0.0146      0.005     -3.092      0.002      -0.024      -0.005\n",
      "x0_Nevada                        -0.0161      0.007     -2.459      0.014      -0.029      -0.003\n",
      "x0_Oregon                        -0.0146      0.005     -2.972      0.003      -0.024      -0.005\n",
      "x0_Washington                    -0.0137      0.007     -2.030      0.042      -0.027      -0.000\n",
      "x1_Yes                           -0.0330      0.005     -6.236      0.000      -0.043      -0.023\n",
      "x2_Extended                      -0.0012      0.005     -0.243      0.808      -0.011       0.009\n",
      "x2_Premium                        0.0146      0.009      1.543      0.123      -0.004       0.033\n",
      "x3_College                       -0.0191      0.004     -4.442      0.000      -0.028      -0.011\n",
      "x3_Doctor                        -0.0252      0.009     -2.753      0.006      -0.043      -0.007\n",
      "x3_High School or Below           0.0027      0.004      0.620      0.535      -0.006       0.011\n",
      "x3_Master                        -0.0232      0.007     -3.509      0.000      -0.036      -0.010\n",
      "x4_01/02/2011                    -0.1903      0.016    -11.780      0.000      -0.222      -0.159\n",
      "x4_02/01/2011                    -0.1855      0.016    -11.689      0.000      -0.217      -0.154\n",
      "x4_02/02/2011                    -0.1704      0.016    -10.435      0.000      -0.202      -0.138\n",
      "x4_03/01/2011                    -0.1766      0.015    -11.446      0.000      -0.207      -0.146\n",
      "x4_03/02/2011                    -0.2020      0.016    -12.634      0.000      -0.233      -0.171\n",
      "x4_04/01/2011                    -0.1785      0.018    -10.034      0.000      -0.213      -0.144\n",
      "x4_04/02/2011                    -0.1544      0.016     -9.745      0.000      -0.185      -0.123\n",
      "x4_05/01/2011                    -0.1629      0.016    -10.238      0.000      -0.194      -0.132\n",
      "x4_05/02/2011                    -0.1655      0.016    -10.357      0.000      -0.197      -0.134\n",
      "x4_06/01/2011                    -0.1644      0.017     -9.922      0.000      -0.197      -0.132\n",
      "x4_06/02/2011                    -0.1654      0.017    -10.013      0.000      -0.198      -0.133\n",
      "x4_07/01/2011                    -0.1812      0.016    -11.103      0.000      -0.213      -0.149\n",
      "x4_07/02/2011                    -0.1605      0.016     -9.940      0.000      -0.192      -0.129\n",
      "x4_08/01/2011                    -0.1856      0.016    -11.352      0.000      -0.218      -0.154\n",
      "x4_08/02/2011                    -0.1823      0.017    -10.822      0.000      -0.215      -0.149\n",
      "x4_09/01/2011                    -0.2146      0.016    -13.074      0.000      -0.247      -0.182\n",
      "x4_09/02/2011                    -0.1888      0.017    -11.248      0.000      -0.222      -0.156\n",
      "x4_10/01/2011                    -0.1623      0.015    -10.703      0.000      -0.192      -0.133\n",
      "x4_10/02/2011                    -0.1723      0.016    -10.799      0.000      -0.204      -0.141\n",
      "x4_11/01/2011                    -0.1889      0.016    -11.997      0.000      -0.220      -0.158\n",
      "x4_11/02/2011                    -0.1833      0.016    -11.277      0.000      -0.215      -0.151\n",
      "x4_12/01/2011                    -0.1958      0.017    -11.432      0.000      -0.229      -0.162\n",
      "x4_12/02/2011                    -0.1848      0.016    -11.523      0.000      -0.216      -0.153\n",
      "x4_13/01/2011                    -0.1644      0.017     -9.936      0.000      -0.197      -0.132\n",
      "x4_13/02/2011                    -0.1639      0.017     -9.791      0.000      -0.197      -0.131\n",
      "x4_14/01/2011                    -0.1857      0.016    -11.397      0.000      -0.218      -0.154\n",
      "x4_14/02/2011                    -0.1903      0.015    -12.494      0.000      -0.220      -0.160\n",
      "x4_15/01/2011                    -0.1842      0.016    -11.442      0.000      -0.216      -0.153\n",
      "x4_15/02/2011                    -0.1830      0.017    -10.672      0.000      -0.217      -0.149\n",
      "x4_16/01/2011                    -0.1859      0.017    -11.210      0.000      -0.218      -0.153\n",
      "x4_16/02/2011                    -0.2067      0.017    -12.441      0.000      -0.239      -0.174\n",
      "x4_17/01/2011                    -0.1903      0.015    -12.357      0.000      -0.220      -0.160\n",
      "x4_17/02/2011                    -0.1595      0.017     -9.467      0.000      -0.193      -0.126\n",
      "x4_18/01/2011                    -0.1801      0.016    -11.059      0.000      -0.212      -0.148\n",
      "x4_18/02/2011                    -0.1921      0.016    -11.750      0.000      -0.224      -0.160\n",
      "x4_19/01/2011                    -0.1861      0.016    -11.972      0.000      -0.217      -0.156\n",
      "x4_19/02/2011                    -0.1717      0.016    -10.934      0.000      -0.202      -0.141\n",
      "x4_20/01/2011                    -0.1447      0.016     -9.191      0.000      -0.176      -0.114\n",
      "x4_20/02/2011                    -0.1716      0.017    -10.165      0.000      -0.205      -0.139\n",
      "x4_21/01/2011                    -0.1694      0.016    -10.599      0.000      -0.201      -0.138\n",
      "x4_21/02/2011                    -0.1656      0.016    -10.173      0.000      -0.198      -0.134\n",
      "x4_22/01/2011                    -0.1847      0.017    -10.957      0.000      -0.218      -0.152\n",
      "x4_22/02/2011                    -0.1772      0.016    -11.039      0.000      -0.209      -0.146\n",
      "x4_23/01/2011                    -0.1690      0.016    -10.459      0.000      -0.201      -0.137\n",
      "x4_23/02/2011                    -0.1976      0.017    -11.939      0.000      -0.230      -0.165\n",
      "x4_24/01/2011                    -0.1914      0.016    -11.636      0.000      -0.224      -0.159\n",
      "x4_24/02/2011                    -0.1905      0.017    -11.408      0.000      -0.223      -0.158\n",
      "x4_25/01/2011                    -0.1638      0.016    -10.124      0.000      -0.196      -0.132\n",
      "x4_25/02/2011                    -0.1738      0.016    -10.636      0.000      -0.206      -0.142\n",
      "x4_26/01/2011                    -0.1682      0.016    -10.844      0.000      -0.199      -0.138\n",
      "x4_26/02/2011                    -0.1991      0.016    -12.684      0.000      -0.230      -0.168\n",
      "x4_27/01/2011                    -0.1623      0.015    -10.886      0.000      -0.192      -0.133\n",
      "x4_27/02/2011                    -0.1684      0.016    -10.655      0.000      -0.199      -0.137\n",
      "x4_28/01/2011                    -0.1693      0.016    -10.818      0.000      -0.200      -0.139\n",
      "x4_28/02/2011                    -0.2127      0.016    -13.435      0.000      -0.244      -0.182\n",
      "x4_29/01/2011                    -0.1575      0.016     -9.811      0.000      -0.189      -0.126\n",
      "x4_30/01/2011                    -0.1855      0.017    -11.232      0.000      -0.218      -0.153\n",
      "x4_31/01/2011                    -0.1817      0.015    -11.761      0.000      -0.212      -0.151\n",
      "x5_Employed                      -0.1029      0.008    -12.418      0.000      -0.119      -0.087\n",
      "x5_Medical Leave                 -0.0576      0.011     -5.431      0.000      -0.078      -0.037\n",
      "x5_Retired                       -0.0607      0.012     -4.875      0.000      -0.085      -0.036\n",
      "x5_Unemployed                     0.0025      0.008      0.296      0.767      -0.014       0.019\n",
      "x6_M                              0.0078      0.003      2.323      0.020       0.001       0.014\n",
      "x7_Suburban                       0.4837      0.005    101.342      0.000       0.474       0.493\n",
      "x7_Urban                          0.2569      0.005     47.055      0.000       0.246       0.268\n",
      "x8_Married                       -0.0292      0.005     -6.024      0.000      -0.039      -0.020\n",
      "x8_Single                         0.0494      0.006      8.766      0.000       0.038       0.060\n",
      "x9_Personal Auto                 -0.0576      0.006     -9.655      0.000      -0.069      -0.046\n",
      "x9_Special Auto                  -0.0439      0.009     -4.989      0.000      -0.061      -0.027\n",
      "x10_Corporate L2                 -0.0759      0.010     -7.511      0.000      -0.096      -0.056\n",
      "x10_Corporate L3                 -0.0789      0.009     -8.619      0.000      -0.097      -0.061\n",
      "x10_Personal L1                  -0.0141      0.004     -3.484      0.000      -0.022      -0.006\n",
      "x10_Personal L2                  -0.0247      0.003     -7.086      0.000      -0.031      -0.018\n",
      "x10_Personal L3                  -0.0189      0.003     -6.019      0.000      -0.025      -0.013\n",
      "x10_Special L1                    0.0118      0.015      0.765      0.445      -0.019       0.042\n",
      "x10_Special L2                   -0.0214      0.011     -1.918      0.055      -0.043       0.000\n",
      "x10_Special L3                   -0.0343      0.012     -2.974      0.003      -0.057      -0.012\n",
      "x11_Offer2                        0.0199      0.004      4.741      0.000       0.012       0.028\n",
      "x11_Offer3                        0.0088      0.005      1.745      0.081      -0.001       0.019\n",
      "x11_Offer4                        0.0110      0.006      1.862      0.063      -0.001       0.023\n",
      "x12_Branch                       -0.0060      0.004     -1.461      0.144      -0.014       0.002\n",
      "x12_Call Center                  -0.0104      0.005     -2.222      0.026      -0.020      -0.001\n",
      "x12_Web                          -0.0065      0.005     -1.262      0.207      -0.017       0.004\n",
      "x13_Luxury Car                    0.0397      0.018      2.167      0.030       0.004       0.076\n",
      "x13_Luxury SUV                    0.0246      0.018      1.375      0.169      -0.010       0.060\n",
      "x13_SUV                           0.0115      0.009      1.271      0.204      -0.006       0.029\n",
      "x13_Sports Car                    0.0051      0.011      0.469      0.639      -0.016       0.027\n",
      "x13_Two-Door Car                 -0.0092      0.004     -2.128      0.033      -0.018      -0.001\n",
      "x14_Medsize                      -0.0295      0.005     -5.475      0.000      -0.040      -0.019\n",
      "x14_Small                        -0.0087      0.006     -1.371      0.170      -0.021       0.004\n",
      "Customer Lifetime Value           0.0134      0.006      2.256      0.024       0.002       0.025\n",
      "Income                            0.0218      0.007      3.045      0.002       0.008       0.036\n",
      "Monthly Premium Auto              0.4850      0.016     30.749      0.000       0.454       0.516\n",
      "Months Since Last Claim           0.0092      0.004      2.195      0.028       0.001       0.017\n",
      "Months Since Policy Inception    -0.0043      0.004     -1.005      0.315      -0.013       0.004\n",
      "Number of Open Complaints        -0.0010      0.006     -0.183      0.855      -0.012       0.010\n",
      "Number of Policies                0.0084      0.005      1.841      0.066      -0.001       0.017\n",
      "==============================================================================\n",
      "Omnibus:                     1278.230   Durbin-Watson:                   1.988\n",
      "Prob(Omnibus):                  0.000   Jarque-Bera (JB):             2865.723\n",
      "Skew:                           0.829   Prob(JB):                         0.00\n",
      "Kurtosis:                       5.187   Cond. No.                     3.10e+16\n",
      "==============================================================================\n",
      "\n",
      "Warnings:\n",
      "[1] Standard Errors assume that the covariance matrix of the errors is correctly specified.\n",
      "[2] The smallest eigenvalue is 3.72e-29. This might indicate that there are\n",
      "strong multicollinearity problems or that the design matrix is singular.\n"
     ]
    }
   ],
   "source": [
    "import statsmodels.api as sm\n",
    "from statsmodels.formula.api import ols\n",
    "\n",
    "X = sm.add_constant(x)\n",
    "model = sm.OLS(y,x).fit()\n",
    "print(model.summary())\n"
   ]
  },
  {
   "cell_type": "markdown",
   "metadata": {},
   "source": [
    "# Models"
   ]
  },
  {
   "cell_type": "code",
   "execution_count": 59,
   "metadata": {
    "scrolled": false
   },
   "outputs": [],
   "source": [
    "##Train-test split\n",
    "from sklearn.model_selection import train_test_split\n",
    "x_train,x_test,y_train,y_test=train_test_split(x,y,test_size=0.3,random_state=100)"
   ]
  },
  {
   "cell_type": "markdown",
   "metadata": {},
   "source": [
    "## 1. Linear Regression Model"
   ]
  },
  {
   "cell_type": "code",
   "execution_count": 60,
   "metadata": {
    "scrolled": false
   },
   "outputs": [
    {
     "data": {
      "text/plain": [
       "<matplotlib.axes._subplots.AxesSubplot at 0x7ffa255b6070>"
      ]
     },
     "execution_count": 60,
     "metadata": {},
     "output_type": "execute_result"
    },
    {
     "data": {
      "image/png": "[encoded data removed]",
      "text/plain": [
       "<Figure size 432x288 with 1 Axes>"
      ]
     },
     "metadata": {
      "needs_background": "light"
     },
     "output_type": "display_data"
    }
   ],
   "source": [
    "from sklearn.linear_model import LinearRegression\n",
    "regression = LinearRegression()\n",
    "model = regression.fit(x_train,y_train)\n",
    "y_pred = model.predict(x_test)\n",
    "residuals = y_pred - y_test\n",
    "sns.distplot(residuals)"
   ]
  },
  {
   "cell_type": "markdown",
   "metadata": {},
   "source": [
    "### => Model Performance "
   ]
  },
  {
   "cell_type": "code",
   "execution_count": 61,
   "metadata": {
    "scrolled": false
   },
   "outputs": [
    {
     "name": "stdout",
     "output_type": "stream",
     "text": [
      "R2 is:  0.7782370713925951\n",
      "MSE is:  0.022601083515654232\n",
      "RMSE is:  0.15033656745999702\n",
      "MAE is:  0.11723726169227029\n"
     ]
    }
   ],
   "source": [
    "#Regression metrics\n",
    "from sklearn.metrics import r2_score\n",
    "from sklearn.metrics import mean_squared_error\n",
    "from sklearn.metrics import mean_absolute_error\n",
    "\n",
    "R2=r2_score(y_test, y_pred)\n",
    "print(\"R2 is: \", R2)\n",
    "MSE=mean_squared_error(y_test, y_pred)\n",
    "print(\"MSE is: \", MSE)\n",
    "RMSE=math.sqrt(MSE)\n",
    "print(\"RMSE is: \", RMSE)\n",
    "MAE=mean_absolute_error(y_test, y_pred)\n",
    "print(\"MAE is: \", MAE)"
   ]
  }
 ],
 "metadata": {
  "kernelspec": {
   "display_name": "Python 3",
   "language": "python",
   "name": "python3"
  },
  "language_info": {
   "codemirror_mode": {
    "name": "ipython",
    "version": 3
   },
   "file_extension": ".py",
   "mimetype": "text/x-python",
   "name": "python",
   "nbconvert_exporter": "python",
   "pygments_lexer": "ipython3",
   "version": "3.8.3"
  }
 },
 "nbformat": 4,
 "nbformat_minor": 4
}
